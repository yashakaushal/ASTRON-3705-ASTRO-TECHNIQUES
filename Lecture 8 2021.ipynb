{
 "cells": [
  {
   "cell_type": "code",
   "execution_count": 13,
   "metadata": {
    "scrolled": true
   },
   "outputs": [
    {
     "name": "stdout",
     "output_type": "stream",
     "text": [
      "Populating the interactive namespace from numpy and matplotlib\n"
     ]
    }
   ],
   "source": [
    "%pylab inline\n"
   ]
  },
  {
   "cell_type": "code",
   "execution_count": 14,
   "metadata": {
    "scrolled": true
   },
   "outputs": [],
   "source": [
    "import scipy.stats as stats\n",
    "import numpy.random as random\n",
    "import scipy.interpolate as interpol\n",
    "import scipy.integrate as integrate"
   ]
  },
  {
   "cell_type": "markdown",
   "metadata": {},
   "source": [
    "# Test case for today: log-normal data\n",
    "\n",
    "Let's create $10^6$ values distributed as a log-normal: $x \\sim e^{N(0,1)}$"
   ]
  },
  {
   "cell_type": "code",
   "execution_count": 58,
   "metadata": {
    "scrolled": true
   },
   "outputs": [],
   "source": [
    "data=exp(random.randn(100_000))"
   ]
  },
  {
   "cell_type": "markdown",
   "metadata": {},
   "source": [
    "__In the below code box, plot a histogram of the array `data` as one figure (using `plt.figure()`) and a histogram of the log of the data as a second figure.  Use 100 bins for each plot.__"
   ]
  },
  {
   "cell_type": "code",
   "execution_count": 16,
   "metadata": {
    "scrolled": true
   },
   "outputs": [
    {
     "data": {
      "image/png": "[encoded data removed]",
      "text/plain": [
       "<Figure size 432x288 with 1 Axes>"
      ]
     },
     "metadata": {
      "needs_background": "light"
     },
     "output_type": "display_data"
    },
    {
     "data": {
      "image/png": "[encoded data removed]",
      "text/plain": [
       "<Figure size 432x288 with 1 Axes>"
      ]
     },
     "metadata": {
      "needs_background": "light"
     },
     "output_type": "display_data"
    }
   ],
   "source": [
    "plt.hist(data,bins=100)\n",
    "plt.show()\n",
    "plt.hist(np.log10(data),bins=100)\n",
    "plt.show()"
   ]
  },
  {
   "cell_type": "markdown",
   "metadata": {},
   "source": [
    "Calculating the mean:"
   ]
  },
  {
   "cell_type": "code",
   "execution_count": 18,
   "metadata": {
    "scrolled": true
   },
   "outputs": [
    {
     "name": "stdout",
     "output_type": "stream",
     "text": [
      "1.650563743445527\n",
      "1.650563743445527\n"
     ]
    }
   ],
   "source": [
    "print(np.mean(data))\n",
    "print( data.mean() )"
   ]
  },
  {
   "cell_type": "markdown",
   "metadata": {},
   "source": [
    "Calculating the median:"
   ]
  },
  {
   "cell_type": "code",
   "execution_count": 19,
   "metadata": {
    "scrolled": true
   },
   "outputs": [
    {
     "name": "stdout",
     "output_type": "stream",
     "text": [
      "0.9980407917901364\n"
     ]
    }
   ],
   "source": [
    "print(np.median(data))"
   ]
  },
  {
   "cell_type": "markdown",
   "metadata": {},
   "source": [
    "Calculating the mode:"
   ]
  },
  {
   "cell_type": "code",
   "execution_count": 21,
   "metadata": {
    "scrolled": true
   },
   "outputs": [
    {
     "name": "stdout",
     "output_type": "stream",
     "text": [
      "Unrounded: ModeResult(mode=array([0.01049772]), count=array([1]))\n",
      "Rounded: ModeResult(mode=array([0.35]), count=array([693]))\n"
     ]
    }
   ],
   "source": [
    "print(f'Unrounded: {stats.mode(data)}')\n",
    "\n",
    "data_r = np.round(data,decimals=2)\n",
    "print(f'Rounded: {stats.mode(data_r)}')"
   ]
  },
  {
   "cell_type": "code",
   "execution_count": 22,
   "metadata": {
    "scrolled": true
   },
   "outputs": [
    {
     "name": "stdout",
     "output_type": "stream",
     "text": [
      "0.3500000000000001\n"
     ]
    }
   ],
   "source": [
    "bins = np.linspace(-0.005,10.005,1002)\n",
    "counts,edges=np.histogram(data,bins=bins)\n",
    "whmax=np.argmax(counts)\n",
    "mode=(edges[whmax]+edges[whmax+1])/2\n",
    "print(mode)"
   ]
  },
  {
   "cell_type": "markdown",
   "metadata": {},
   "source": [
    "## Creating a mode function\n",
    "\n",
    "Let's define a function which can calculate the mode for any binning we might choose at the time we run it:"
   ]
  },
  {
   "cell_type": "code",
   "execution_count": 30,
   "metadata": {
    "scrolled": true
   },
   "outputs": [],
   "source": [
    "def mode2(data,**kwargs):\n",
    "# note: provide bins and (optionally) range keywords \n",
    "# as used in np.histogram to not use the\n",
    "# defaults of np.histogram (10 bins, full range)\n",
    "    counts,edges=np.histogram(data,**kwargs)\n",
    "    whmax=np.argmax(counts)\n",
    "    mode=(edges[whmax]+edges[whmax+1])/2\n",
    "    print(mode)\n",
    "    return(mode)"
   ]
  },
  {
   "cell_type": "markdown",
   "metadata": {},
   "source": [
    "__Use the `mode2` function to calculate the mode for at least 3 different binnings of the data (differing in bin sizes).__  Since we used `**kwargs` we can include the `bins=` keyword within the `mode2` function call, and it gets passed to `np.histogram`."
   ]
  },
  {
   "cell_type": "code",
   "execution_count": 33,
   "metadata": {
    "scrolled": true
   },
   "outputs": [
    {
     "name": "stdout",
     "output_type": "stream",
     "text": [
      "0.24477447744774478\n",
      "0.30593186372745496\n",
      "0.3014285714285715\n"
     ]
    },
    {
     "data": {
      "image/png": "[encoded data removed]",
      "text/plain": [
       "<Figure size 432x288 with 1 Axes>"
      ]
     },
     "metadata": {
      "needs_background": "light"
     },
     "output_type": "display_data"
    },
    {
     "data": {
      "image/png": "[encoded data removed]",
      "text/plain": [
       "<Figure size 432x288 with 1 Axes>"
      ]
     },
     "metadata": {
      "needs_background": "light"
     },
     "output_type": "display_data"
    },
    {
     "data": {
      "image/png": "[encoded data removed]",
      "text/plain": [
       "<Figure size 432x288 with 1 Axes>"
      ]
     },
     "metadata": {
      "needs_background": "light"
     },
     "output_type": "display_data"
    }
   ],
   "source": [
    "bins1 = np.linspace(-0.005,10.005,10000)\n",
    "bins2 = np.linspace(-0.005,10.005,500)\n",
    "bins3 = np.linspace(-0.005,10.005,50)\n",
    "\n",
    "mode2(data,bins = bins1)\n",
    "mode2(data,bins = bins2)\n",
    "mode2(data,bins = bins3)\n",
    "\n",
    "plt.hist(data,bins=bins1)\n",
    "plt.show()\n",
    "plt.hist(data,bins=bins2)\n",
    "plt.show()\n",
    "plt.hist(data,bins=bins3)\n",
    "plt.show()"
   ]
  },
  {
   "cell_type": "markdown",
   "metadata": {},
   "source": [
    "# Calculating measures of scale\n",
    "\n",
    "First, the standard deviation:\n"
   ]
  },
  {
   "cell_type": "code",
   "execution_count": 56,
   "metadata": {
    "scrolled": true
   },
   "outputs": [
    {
     "name": "stdout",
     "output_type": "stream",
     "text": [
      "0.9999937610368673 0.9999938110365592\n",
      "nan nan\n"
     ]
    },
    {
     "name": "stderr",
     "output_type": "stream",
     "text": [
      "/Users/yashakaushal/opt/anaconda3/lib/python3.7/site-packages/ipykernel_launcher.py:2: RuntimeWarning: invalid value encountered in log\n",
      "  \n"
     ]
    }
   ],
   "source": [
    "print( np.std(data),np.std(data,ddof=1) )\n",
    "print( np.std(log(data)),np.std(log(data),ddof=1) )"
   ]
  },
  {
   "cell_type": "markdown",
   "metadata": {},
   "source": [
    "### Now, the mean absolute deviation.  \n",
    "\n",
    "__Discuss with your group: why do these values agree or not with the standard deviation?__\n"
   ]
  },
  {
   "cell_type": "code",
   "execution_count": 55,
   "metadata": {
    "scrolled": true
   },
   "outputs": [
    {
     "name": "stdout",
     "output_type": "stream",
     "text": [
      "Normalized Mean Absolute Deviation: 0.99988\n",
      "Normalized Mean Absolute Deviation of log(data): nan\n"
     ]
    },
    {
     "name": "stderr",
     "output_type": "stream",
     "text": [
      "/Users/yashakaushal/opt/anaconda3/lib/python3.7/site-packages/ipykernel_launcher.py:2: RuntimeWarning: invalid value encountered in log\n",
      "  \n",
      "/Users/yashakaushal/opt/anaconda3/lib/python3.7/site-packages/ipykernel_launcher.py:3: RuntimeWarning: invalid value encountered in log\n",
      "  This is separate from the ipykernel package so we can avoid doing imports until\n"
     ]
    }
   ],
   "source": [
    "normmeanabsdev = np.mean(np.abs(data-data.mean()))/0.7979\n",
    "mnlog = np.mean(np.log(data) )\n",
    "normmeanabsdev_log = np.mean(np.abs( np.log(data)-mnlog) )/0.7979\n",
    "\n",
    "print(f'Normalized Mean Absolute Deviation: {normmeanabsdev:.5f}')\n",
    "print(f'Normalized Mean Absolute Deviation of log(data): {normmeanabsdev_log:.5f}')"
   ]
  },
  {
   "cell_type": "markdown",
   "metadata": {},
   "source": [
    "### Calculating the MAD:\n",
    "\n",
    "__Discuss with your group: why do these values agree or not with the standard deviation?__\n"
   ]
  },
  {
   "cell_type": "code",
   "execution_count": 50,
   "metadata": {
    "scrolled": true
   },
   "outputs": [
    {
     "name": "stdout",
     "output_type": "stream",
     "text": [
      "Normalized Median Absolute Deviation: 0.89558\n",
      "Normalized Mean Absolute Deviation of log(data): 1.00376\n"
     ]
    }
   ],
   "source": [
    "meddata=np.median(data)\n",
    "normmad = np.median(np.abs(data-meddata))/0.6745\n",
    "normmad_log = np.median(abs(np.log(data)-np.log(meddata)))/0.6745\n",
    "\n",
    "\n",
    "print(f'Normalized Median Absolute Deviation: {normmad:.5f}')\n",
    "print(f'Normalized Mean Absolute Deviation of log(data): {normmad_log:.5f}')"
   ]
  },
  {
   "cell_type": "markdown",
   "metadata": {},
   "source": [
    "### Calculating the IQR:\n",
    "\n",
    "__Discuss with your group: why do these values agree or not with the standard deviation?__"
   ]
  },
  {
   "cell_type": "code",
   "execution_count": 46,
   "metadata": {
    "scrolled": true
   },
   "outputs": [
    {
     "name": "stdout",
     "output_type": "stream",
     "text": [
      "Normalized IQR: 0.99977\n",
      "Normalized IQR of log(data): nan\n"
     ]
    },
    {
     "name": "stderr",
     "output_type": "stream",
     "text": [
      "/Users/yashakaushal/opt/anaconda3/lib/python3.7/site-packages/ipykernel_launcher.py:3: RuntimeWarning: invalid value encountered in log\n",
      "  This is separate from the ipykernel package so we can avoid doing imports until\n"
     ]
    }
   ],
   "source": [
    "d25,d75 = np.percentile(data,[25,75])\n",
    "normiqr = (d75-d25)/1.349\n",
    "normiqr_log = (np.log(d75)-np.log(d25))/1.349\n",
    "\n",
    "\n",
    "print(f'Normalized IQR: {normiqr:.5f}')\n",
    "print(f'Normalized IQR of log(data): {normiqr_log:.5f}')"
   ]
  },
  {
   "cell_type": "markdown",
   "metadata": {},
   "source": [
    "# Results when averaging data together"
   ]
  },
  {
   "cell_type": "code",
   "execution_count": 51,
   "metadata": {
    "scrolled": true
   },
   "outputs": [],
   "source": [
    "nsims = int(1E5)\n",
    "navg = 100\n",
    "data = random.randn(nsims,navg)\n",
    "\n",
    "# average each set of navg values\n",
    "means=np.mean(data,axis=1)"
   ]
  },
  {
   "cell_type": "markdown",
   "metadata": {},
   "source": [
    "- __Using the below code block, plot a histogram of the distribution of the means from each simulation, with binsize 0.01, over the range from -2 to +2 (what should you set the `bins` and `range` keywords to be for that?)__\n",
    "\n",
    "- __Determine the standard deviation of the array of means__"
   ]
  },
  {
   "cell_type": "code",
   "execution_count": 54,
   "metadata": {},
   "outputs": [
    {
     "data": {
      "text/plain": [
       "(array([[57., 53., 61., ..., 58., 70., 57.],\n",
       "        [50., 62., 45., ..., 62., 55., 54.],\n",
       "        [53., 58., 62., ..., 68., 68., 53.],\n",
       "        ...,\n",
       "        [59., 46., 58., ..., 47., 46., 53.],\n",
       "        [48., 48., 44., ..., 56., 61., 52.],\n",
       "        [46., 47., 56., ..., 69., 56., 54.]]),\n",
       " array([-2.00000000e+00, -1.99000000e+00, -1.98000000e+00, -1.97000000e+00,\n",
       "        -1.96000000e+00, -1.95000000e+00, -1.94000000e+00, -1.93000000e+00,\n",
       "        -1.92000000e+00, -1.91000000e+00, -1.90000000e+00, -1.89000000e+00,\n",
       "        -1.88000000e+00, -1.87000000e+00, -1.86000000e+00, -1.85000000e+00,\n",
       "        -1.84000000e+00, -1.83000000e+00, -1.82000000e+00, -1.81000000e+00,\n",
       "        -1.80000000e+00, -1.79000000e+00, -1.78000000e+00, -1.77000000e+00,\n",
       "        -1.76000000e+00, -1.75000000e+00, -1.74000000e+00, -1.73000000e+00,\n",
       "        -1.72000000e+00, -1.71000000e+00, -1.70000000e+00, -1.69000000e+00,\n",
       "        -1.68000000e+00, -1.67000000e+00, -1.66000000e+00, -1.65000000e+00,\n",
       "        -1.64000000e+00, -1.63000000e+00, -1.62000000e+00, -1.61000000e+00,\n",
       "        -1.60000000e+00, -1.59000000e+00, -1.58000000e+00, -1.57000000e+00,\n",
       "        -1.56000000e+00, -1.55000000e+00, -1.54000000e+00, -1.53000000e+00,\n",
       "        -1.52000000e+00, -1.51000000e+00, -1.50000000e+00, -1.49000000e+00,\n",
       "        -1.48000000e+00, -1.47000000e+00, -1.46000000e+00, -1.45000000e+00,\n",
       "        -1.44000000e+00, -1.43000000e+00, -1.42000000e+00, -1.41000000e+00,\n",
       "        -1.40000000e+00, -1.39000000e+00, -1.38000000e+00, -1.37000000e+00,\n",
       "        -1.36000000e+00, -1.35000000e+00, -1.34000000e+00, -1.33000000e+00,\n",
       "        -1.32000000e+00, -1.31000000e+00, -1.30000000e+00, -1.29000000e+00,\n",
       "        -1.28000000e+00, -1.27000000e+00, -1.26000000e+00, -1.25000000e+00,\n",
       "        -1.24000000e+00, -1.23000000e+00, -1.22000000e+00, -1.21000000e+00,\n",
       "        -1.20000000e+00, -1.19000000e+00, -1.18000000e+00, -1.17000000e+00,\n",
       "        -1.16000000e+00, -1.15000000e+00, -1.14000000e+00, -1.13000000e+00,\n",
       "        -1.12000000e+00, -1.11000000e+00, -1.10000000e+00, -1.09000000e+00,\n",
       "        -1.08000000e+00, -1.07000000e+00, -1.06000000e+00, -1.05000000e+00,\n",
       "        -1.04000000e+00, -1.03000000e+00, -1.02000000e+00, -1.01000000e+00,\n",
       "        -1.00000000e+00, -9.90000000e-01, -9.80000000e-01, -9.70000000e-01,\n",
       "        -9.60000000e-01, -9.50000000e-01, -9.40000000e-01, -9.30000000e-01,\n",
       "        -9.20000000e-01, -9.10000000e-01, -9.00000000e-01, -8.90000000e-01,\n",
       "        -8.80000000e-01, -8.70000000e-01, -8.60000000e-01, -8.50000000e-01,\n",
       "        -8.40000000e-01, -8.30000000e-01, -8.20000000e-01, -8.10000000e-01,\n",
       "        -8.00000000e-01, -7.90000000e-01, -7.80000000e-01, -7.70000000e-01,\n",
       "        -7.60000000e-01, -7.50000000e-01, -7.40000000e-01, -7.30000000e-01,\n",
       "        -7.20000000e-01, -7.10000000e-01, -7.00000000e-01, -6.90000000e-01,\n",
       "        -6.80000000e-01, -6.70000000e-01, -6.60000000e-01, -6.50000000e-01,\n",
       "        -6.40000000e-01, -6.30000000e-01, -6.20000000e-01, -6.10000000e-01,\n",
       "        -6.00000000e-01, -5.90000000e-01, -5.80000000e-01, -5.70000000e-01,\n",
       "        -5.60000000e-01, -5.50000000e-01, -5.40000000e-01, -5.30000000e-01,\n",
       "        -5.20000000e-01, -5.10000000e-01, -5.00000000e-01, -4.90000000e-01,\n",
       "        -4.80000000e-01, -4.70000000e-01, -4.60000000e-01, -4.50000000e-01,\n",
       "        -4.40000000e-01, -4.30000000e-01, -4.20000000e-01, -4.10000000e-01,\n",
       "        -4.00000000e-01, -3.90000000e-01, -3.80000000e-01, -3.70000000e-01,\n",
       "        -3.60000000e-01, -3.50000000e-01, -3.40000000e-01, -3.30000000e-01,\n",
       "        -3.20000000e-01, -3.10000000e-01, -3.00000000e-01, -2.90000000e-01,\n",
       "        -2.80000000e-01, -2.70000000e-01, -2.60000000e-01, -2.50000000e-01,\n",
       "        -2.40000000e-01, -2.30000000e-01, -2.20000000e-01, -2.10000000e-01,\n",
       "        -2.00000000e-01, -1.90000000e-01, -1.80000000e-01, -1.70000000e-01,\n",
       "        -1.60000000e-01, -1.50000000e-01, -1.40000000e-01, -1.30000000e-01,\n",
       "        -1.20000000e-01, -1.10000000e-01, -1.00000000e-01, -9.00000000e-02,\n",
       "        -8.00000000e-02, -7.00000000e-02, -6.00000000e-02, -5.00000000e-02,\n",
       "        -4.00000000e-02, -3.00000000e-02, -2.00000000e-02, -1.00000000e-02,\n",
       "         1.77635684e-15,  1.00000000e-02,  2.00000000e-02,  3.00000000e-02,\n",
       "         4.00000000e-02,  5.00000000e-02,  6.00000000e-02,  7.00000000e-02,\n",
       "         8.00000000e-02,  9.00000000e-02,  1.00000000e-01,  1.10000000e-01,\n",
       "         1.20000000e-01,  1.30000000e-01,  1.40000000e-01,  1.50000000e-01,\n",
       "         1.60000000e-01,  1.70000000e-01,  1.80000000e-01,  1.90000000e-01,\n",
       "         2.00000000e-01,  2.10000000e-01,  2.20000000e-01,  2.30000000e-01,\n",
       "         2.40000000e-01,  2.50000000e-01,  2.60000000e-01,  2.70000000e-01,\n",
       "         2.80000000e-01,  2.90000000e-01,  3.00000000e-01,  3.10000000e-01,\n",
       "         3.20000000e-01,  3.30000000e-01,  3.40000000e-01,  3.50000000e-01,\n",
       "         3.60000000e-01,  3.70000000e-01,  3.80000000e-01,  3.90000000e-01,\n",
       "         4.00000000e-01,  4.10000000e-01,  4.20000000e-01,  4.30000000e-01,\n",
       "         4.40000000e-01,  4.50000000e-01,  4.60000000e-01,  4.70000000e-01,\n",
       "         4.80000000e-01,  4.90000000e-01,  5.00000000e-01,  5.10000000e-01,\n",
       "         5.20000000e-01,  5.30000000e-01,  5.40000000e-01,  5.50000000e-01,\n",
       "         5.60000000e-01,  5.70000000e-01,  5.80000000e-01,  5.90000000e-01,\n",
       "         6.00000000e-01,  6.10000000e-01,  6.20000000e-01,  6.30000000e-01,\n",
       "         6.40000000e-01,  6.50000000e-01,  6.60000000e-01,  6.70000000e-01,\n",
       "         6.80000000e-01,  6.90000000e-01,  7.00000000e-01,  7.10000000e-01,\n",
       "         7.20000000e-01,  7.30000000e-01,  7.40000000e-01,  7.50000000e-01,\n",
       "         7.60000000e-01,  7.70000000e-01,  7.80000000e-01,  7.90000000e-01,\n",
       "         8.00000000e-01,  8.10000000e-01,  8.20000000e-01,  8.30000000e-01,\n",
       "         8.40000000e-01,  8.50000000e-01,  8.60000000e-01,  8.70000000e-01,\n",
       "         8.80000000e-01,  8.90000000e-01,  9.00000000e-01,  9.10000000e-01,\n",
       "         9.20000000e-01,  9.30000000e-01,  9.40000000e-01,  9.50000000e-01,\n",
       "         9.60000000e-01,  9.70000000e-01,  9.80000000e-01,  9.90000000e-01,\n",
       "         1.00000000e+00,  1.01000000e+00,  1.02000000e+00,  1.03000000e+00,\n",
       "         1.04000000e+00,  1.05000000e+00,  1.06000000e+00,  1.07000000e+00,\n",
       "         1.08000000e+00,  1.09000000e+00,  1.10000000e+00,  1.11000000e+00,\n",
       "         1.12000000e+00,  1.13000000e+00,  1.14000000e+00,  1.15000000e+00,\n",
       "         1.16000000e+00,  1.17000000e+00,  1.18000000e+00,  1.19000000e+00,\n",
       "         1.20000000e+00,  1.21000000e+00,  1.22000000e+00,  1.23000000e+00,\n",
       "         1.24000000e+00,  1.25000000e+00,  1.26000000e+00,  1.27000000e+00,\n",
       "         1.28000000e+00,  1.29000000e+00,  1.30000000e+00,  1.31000000e+00,\n",
       "         1.32000000e+00,  1.33000000e+00,  1.34000000e+00,  1.35000000e+00,\n",
       "         1.36000000e+00,  1.37000000e+00,  1.38000000e+00,  1.39000000e+00,\n",
       "         1.40000000e+00,  1.41000000e+00,  1.42000000e+00,  1.43000000e+00,\n",
       "         1.44000000e+00,  1.45000000e+00,  1.46000000e+00,  1.47000000e+00,\n",
       "         1.48000000e+00,  1.49000000e+00,  1.50000000e+00,  1.51000000e+00,\n",
       "         1.52000000e+00,  1.53000000e+00,  1.54000000e+00,  1.55000000e+00,\n",
       "         1.56000000e+00,  1.57000000e+00,  1.58000000e+00,  1.59000000e+00,\n",
       "         1.60000000e+00,  1.61000000e+00,  1.62000000e+00,  1.63000000e+00,\n",
       "         1.64000000e+00,  1.65000000e+00,  1.66000000e+00,  1.67000000e+00,\n",
       "         1.68000000e+00,  1.69000000e+00,  1.70000000e+00,  1.71000000e+00,\n",
       "         1.72000000e+00,  1.73000000e+00,  1.74000000e+00,  1.75000000e+00,\n",
       "         1.76000000e+00,  1.77000000e+00,  1.78000000e+00,  1.79000000e+00,\n",
       "         1.80000000e+00,  1.81000000e+00,  1.82000000e+00,  1.83000000e+00,\n",
       "         1.84000000e+00,  1.85000000e+00,  1.86000000e+00,  1.87000000e+00,\n",
       "         1.88000000e+00,  1.89000000e+00,  1.90000000e+00,  1.91000000e+00,\n",
       "         1.92000000e+00,  1.93000000e+00,  1.94000000e+00,  1.95000000e+00,\n",
       "         1.96000000e+00,  1.97000000e+00,  1.98000000e+00,  1.99000000e+00]),\n",
       " <a list of 100 BarContainer objects>)"
      ]
     },
     "execution_count": 54,
     "metadata": {},
     "output_type": "execute_result"
    },
    {
     "data": {
      "image/png": "[encoded data removed]",
      "text/plain": [
       "<Figure size 432x288 with 1 Axes>"
      ]
     },
     "metadata": {
      "needs_background": "light"
     },
     "output_type": "display_data"
    }
   ],
   "source": [
    "plt.hist(data,bins=np.arange(-2,2,0.01),range=[-2,2])"
   ]
  },
  {
   "cell_type": "markdown",
   "metadata": {},
   "source": [
    "- __Now, in the above code box, create a second set of simulations with `navg` = 9.  Plot the histogram of results from these simulations on top of the histogram for averaging 100 measurements.__\n",
    "\n",
    "__Discuss with your group: How do you explain the differences between the results (both qualitatively and quantitatively)? How does the scatter of the means scale with `navg`?__"
   ]
  },
  {
   "cell_type": "code",
   "execution_count": 57,
   "metadata": {},
   "outputs": [
    {
     "data": {
      "text/plain": [
       "array([[-0.08813319, -0.76233425, -0.52186952, ..., -1.20277869,\n",
       "         0.57854575,  1.14891999],\n",
       "       [ 2.15839366,  0.34597053,  0.27513276, ..., -1.04225525,\n",
       "         0.43987768,  0.64234165],\n",
       "       [-1.23795653,  0.16285457, -1.2144455 , ...,  0.68047052,\n",
       "         0.75085976, -0.73500927],\n",
       "       ...,\n",
       "       [-1.67999883,  1.19843543, -1.50093829, ..., -1.14667774,\n",
       "        -0.24301392, -0.59606842],\n",
       "       [-0.0396136 , -0.81590005,  0.73152107, ..., -2.14146259,\n",
       "         1.25678151, -0.53200636],\n",
       "       [ 0.69165661,  0.48560851, -0.60399099, ..., -0.58192742,\n",
       "        -0.99333088, -0.66112602]])"
      ]
     },
     "execution_count": 57,
     "metadata": {},
     "output_type": "execute_result"
    }
   ],
   "source": []
  },
  {
   "cell_type": "code",
   "execution_count": null,
   "metadata": {},
   "outputs": [],
   "source": []
  }
 ],
 "metadata": {
  "anaconda-cloud": {},
  "kernelspec": {
   "display_name": "Python 3",
   "language": "python",
   "name": "python3"
  },
  "language_info": {
   "codemirror_mode": {
    "name": "ipython",
    "version": 3
   },
   "file_extension": ".py",
   "mimetype": "text/x-python",
   "name": "python",
   "nbconvert_exporter": "python",
   "pygments_lexer": "ipython3",
   "version": "3.7.4"
  }
 },
 "nbformat": 4,
 "nbformat_minor": 4
}
