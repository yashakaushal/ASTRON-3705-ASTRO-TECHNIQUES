{
 "cells": [
  {
   "cell_type": "markdown",
   "metadata": {},
   "source": [
    "# Lecture 3: Exploring Probability\n",
    "\n",
    "We pretty much always want to start notebooks with this line to do standard imports and make sure figures show up in the notebook:"
   ]
  },
  {
   "cell_type": "code",
   "execution_count": 1,
   "metadata": {},
   "outputs": [
    {
     "name": "stdout",
     "output_type": "stream",
     "text": [
      "Populating the interactive namespace from numpy and matplotlib\n"
     ]
    }
   ],
   "source": [
    "%pylab inline"
   ]
  },
  {
   "cell_type": "markdown",
   "metadata": {},
   "source": [
    "## More work with modules\n",
    "\n",
    "You should have put the function from lecture2.ipynb in a file we can use as a module.  Our code was:\n",
    "\n",
    "\n",
    "    import numpy.random as random\n",
    "    import numpy as np\n",
    "    \n",
    "    def sim2coins(ntests):\n",
    "        # simulate ntests tosses of 2 coins \n",
    "        coin1=random.rand(ntests) > 0.5\n",
    "        coin2=random.rand(ntests) > 0.5\n",
    "        return np.sum( coin1 == coin2 )/ntests\n",
    "        \n",
    "You should have placed this in a file named sim2coins.py .     \n",
    "\n",
    "__Next import and test your code: change the number of simulations below.__"
   ]
  },
  {
   "cell_type": "code",
   "execution_count": 2,
   "metadata": {},
   "outputs": [
    {
     "name": "stdout",
     "output_type": "stream",
     "text": [
      "0.24934\n"
     ]
    }
   ],
   "source": [
    "import sim2coins as s2c\n",
    "\n",
    "ntests = 5E4\n",
    "print(s2c.sim2coins(int(ntests)) )"
   ]
  },
  {
   "cell_type": "markdown",
   "metadata": {},
   "source": [
    "__Now, modify sim2coins to check for the fraction of cases where coin1 is tails (==False) and coin2 is heads (==True).  Run that code below.__  Note that you will need to use `np.logical_and`; you can also get help on it in the code box below, using ?.  For convenience, you should also make it convert ntests to an integer using the `int()` function."
   ]
  },
  {
   "cell_type": "code",
   "execution_count": 3,
   "metadata": {},
   "outputs": [
    {
     "data": {
      "text/plain": [
       "array([False, False,  True, False])"
      ]
     },
     "execution_count": 3,
     "metadata": {},
     "output_type": "execute_result"
    }
   ],
   "source": [
    "x = np.array([1,1,0,0])\n",
    "y = np.array([1,0,1,0])\n",
    "np.logical_and(~x.astype(bool),y)\n"
   ]
  },
  {
   "cell_type": "code",
   "execution_count": 4,
   "metadata": {},
   "outputs": [
    {
     "name": "stdout",
     "output_type": "stream",
     "text": [
      "0.25328\n"
     ]
    }
   ],
   "source": [
    "from imp import reload\n",
    "reload(s2c)\n",
    "\n",
    "ntests = 5E4\n",
    "print(s2c.sim2coins(int(ntests)) )"
   ]
  },
  {
   "cell_type": "markdown",
   "metadata": {},
   "source": [
    "Python will automatically compile a module the first time you import it.  However, to save time it won't automatically recompile a routine after that.  We have to force it to.\n",
    "\n",
    "To get python to incorporate our changes, just reimporting won't do it.  __Do `reload(s2c)` in the below code box, and test your code again in the box below.__  \n",
    "\n",
    "(Note: you could also go to the Kernel menu above and choose 'Restart', then the Cell menu above and do 'run all'; but that's overkill)."
   ]
  },
  {
   "cell_type": "code",
   "execution_count": 23,
   "metadata": {},
   "outputs": [
    {
     "data": {
      "text/plain": [
       "<module 'sim2coins' from '/Users/yashakaushal/Documents/Courses/Astro_techniques/lec_notebooks/sim2coins.py'>"
      ]
     },
     "execution_count": 23,
     "metadata": {},
     "output_type": "execute_result"
    }
   ],
   "source": [
    "from imp import reload\n",
    "reload(s2c)"
   ]
  },
  {
   "cell_type": "markdown",
   "metadata": {},
   "source": [
    "## Testing the frequentist definition of probability\n",
    "\n",
    "Let's calculate the fraction of successes for different numbers of trials.  __Note there are a couple of items I want you to predict and discuss with your group!__"
   ]
  },
  {
   "cell_type": "code",
   "execution_count": 8,
   "metadata": {},
   "outputs": [
    {
     "name": "stdout",
     "output_type": "stream",
     "text": [
      "0.3\n",
      "0.24\n",
      "0.274\n",
      "0.2608\n",
      "0.254\n",
      "0.24864\n",
      "0.24969\n",
      "0.250787\n"
     ]
    }
   ],
   "source": [
    "nsims_list=np.array([100,500,1000,5000,1E4,5E4,1E5,1E6])\n",
    "\n",
    "nsims_list=nsims_list.astype(int) # can convert the array to integers all at once\n",
    "\n",
    "# PREDICT AND DISCUSS:\n",
    "result=nsims_list*0.\n",
    "for i in nsims_list:\n",
    "    print(s2c.sim2coins(i))"
   ]
  },
  {
   "cell_type": "code",
   "execution_count": 37,
   "metadata": {},
   "outputs": [
    {
     "name": "stdout",
     "output_type": "stream",
     "text": [
      "[0.23     0.296    0.261    0.2562   0.2501   0.24858  0.24817  0.250378]\n"
     ]
    }
   ],
   "source": [
    "# PREDICT AND DISCUSS:\n",
    "for i,nsims in enumerate(nsims_list):\n",
    "     result[i]=s2c.sim2coins(nsims)\n",
    "\n",
    "print(result)\n",
    "        \n",
    "#PUT YOUR CODE FOR PLOTTING IN THIS CODE BOX! \n",
    "#WHEN YOU MODIFY TO LOOP THROUGH 20 TIMES, DO THAT IN THIS BOX TOO\n",
    "#  (MAKE SURE THE PLOT COMMAND IS INSIDE THE LOOP!)"
   ]
  },
  {
   "cell_type": "code",
   "execution_count": 38,
   "metadata": {},
   "outputs": [
    {
     "data": {
      "text/plain": [
       "Text(0.5, 1.0, 'Success defined as getting TH in sim2coins.py')"
      ]
     },
     "execution_count": 38,
     "metadata": {},
     "output_type": "execute_result"
    },
    {
     "data": {
      "image/png": "[encoded data removed]",
      "text/plain": [
       "<Figure size 432x288 with 1 Axes>"
      ]
     },
     "metadata": {
      "needs_background": "light"
     },
     "output_type": "display_data"
    }
   ],
   "source": [
    "plt.scatter(nsims_list,result)\n",
    "plt.xscale('log')\n",
    "plt.xlabel('Number of simulations')\n",
    "plt.ylabel('Fraction of Successes')\n",
    "plt.grid()\n",
    "plt.title('Success defined as getting TH in sim2coins.py')"
   ]
  },
  {
   "cell_type": "markdown",
   "metadata": {},
   "source": [
    "# Plotting and exploring\n",
    "\n",
    "__In the code cell above, plot the fraction of successes as a function of the number of simulations.__\n",
    "\n",
    "Now, make a series of modifications:\n",
    "\n",
    "__1) Plot the result with 0.25 (the expected probability) subtracted from it, as a function of nsims, with the below changes.__\n",
    "- Plot the points as green stars (look at the help on `plt.plot()` ).  \n",
    "- Use a logarithmic x axis (look at the help on `plt.xscale` or `plt.semilogx`)\n",
    "- Use a y axis range from -0.05 to +0.05 (look at the help on `plt.ylim()`)\n",
    "\n",
    "__2) By adding another, outer for loop, repeat the calculation 20 times, overplotting all the results.__\n",
    "\t\tIf you put all the plot commands in the same code box (within the loop), all the plots will be shown on the same axes, as we want.\n",
    "\n",
    "__3) Overplot the line y=0 to help guide the eye.__\n",
    "\n",
    "__Extra: If your group is done and you are waiting around for other groups, add code to overplot the average of all the results at each `nsims` value as a line.  Add labels to your axes and a title to the figure.  Remember that you can type plt. and then hit tab to get a list of all the functions in the `plt` (actually `pyplot`) library.__"
   ]
  },
  {
   "cell_type": "code",
   "execution_count": 42,
   "metadata": {},
   "outputs": [
    {
     "data": {
      "image/png": "[encoded data removed]",
      "text/plain": [
       "<Figure size 432x288 with 1 Axes>"
      ]
     },
     "metadata": {
      "needs_background": "light"
     },
     "output_type": "display_data"
    },
    {
     "data": {
      "image/png": "[encoded data removed]",
      "text/plain": [
       "<Figure size 432x288 with 1 Axes>"
      ]
     },
     "metadata": {
      "needs_background": "light"
     },
     "output_type": "display_data"
    }
   ],
   "source": [
    "y = np.zeros(size(nsims_list))\n",
    "plt.scatter(nsims_list,result-0.25, marker='*',c='green',s=100)\n",
    "plt.xscale('log')\n",
    "plt.ylim(-0.05,+0.05)\n",
    "plt.xlabel('Number of simulations')\n",
    "plt.ylabel('Fraction of Successes - 0.25')\n",
    "plt.plot(nsims_list,y,'k--',alpha=0.7)\n",
    "plt.grid()\n",
    "plt.title('Success defined as TH in sim2coins.py')\n",
    "plt.show()\n",
    "\n",
    "for i in range(20):\n",
    "    for i,nsims in enumerate(nsims_list):\n",
    "        result[i]=s2c.sim2coins(nsims)\n",
    "    plt.scatter(nsims_list,result-0.25,s=20)\n",
    "    plt.xscale('log')\n",
    "    plt.ylim(-0.05,+0.05)\n",
    "    plt.xlabel('Number of simulations')\n",
    "    plt.ylabel('Fraction of Successes - 0.25')\n",
    "    plt.title('Success defined as TH in sim2coins.py')\n",
    "plt.plot(nsims_list,y,'k--',alpha=0.7)\n",
    "plt.grid()\n"
   ]
  },
  {
   "cell_type": "markdown",
   "metadata": {},
   "source": [
    "## Simulating Dice\n",
    "\n",
    "__Here are 3 ways for generating dice rolls.  Check that they give similar results in the average using np.mean().__ Note that I have not filled in all the code for the `np.ceil()` method as an exercise for you to fill in."
   ]
  },
  {
   "cell_type": "code",
   "execution_count": 43,
   "metadata": {},
   "outputs": [],
   "source": [
    "nsims=1000\n",
    "\n",
    "#Floor: \n",
    "rolls_f = np.floor(random.rand(nsims)*6) + 1\n",
    "\n",
    "#Round:\n",
    "rolls_r = np.round(random.rand(nsims)*6 + 0.5)\n",
    "\n",
    "#Ceil:\n",
    "rolls_c = np.ceil( random.rand(nsims)*6 ) # Your code here\n"
   ]
  },
  {
   "cell_type": "code",
   "execution_count": 44,
   "metadata": {},
   "outputs": [
    {
     "name": "stdout",
     "output_type": "stream",
     "text": [
      "3.6\n",
      "3.528\n",
      "3.456\n"
     ]
    }
   ],
   "source": [
    "print(np.mean(rolls_f))\n",
    "print(np.mean(rolls_r))\n",
    "print(np.mean(rolls_c))\n"
   ]
  },
  {
   "cell_type": "markdown",
   "metadata": {},
   "source": [
    "## Plotting histograms\n",
    "\n",
    "Below we plot a histogram of die rolls.\n",
    "\n",
    "__In the below code box, use the `bins` and `range` keywords with `plt.hist()` to plot the results in 6 bins, centered at 1,2,3,...6.  This is not how the bins will be set up by default!__  \n",
    "\n",
    "As usual, you can do `?plt.hist()` to see the help information."
   ]
  },
  {
   "cell_type": "code",
   "execution_count": 49,
   "metadata": {},
   "outputs": [
    {
     "data": {
      "text/plain": [
       "(array([155., 164., 157., 177., 144., 203.]),\n",
       " array([0.5, 1.5, 2.5, 3.5, 4.5, 5.5, 6.5]),\n",
       " <BarContainer object of 6 artists>)"
      ]
     },
     "execution_count": 49,
     "metadata": {},
     "output_type": "execute_result"
    },
    {
     "data": {
      "image/png": "[encoded data removed]",
      "text/plain": [
       "<Figure size 432x288 with 1 Axes>"
      ]
     },
     "metadata": {
      "needs_background": "light"
     },
     "output_type": "display_data"
    }
   ],
   "source": [
    "plt.hist(rolls_f,bins=6,range=(0.5,6.5))"
   ]
  },
  {
   "cell_type": "markdown",
   "metadata": {},
   "source": [
    "# Multi-Dimensional Arrays \n",
    "\n",
    "A numpy array need not have only one dimension.  E.g.:\n",
    "\n",
    "    img = np.zeros( (200,200) )\n",
    "\n",
    "will create a 200 x 200 array, with zeros everywhere.  \n",
    "\n",
    "Note: `np.zeros()` and similar routines can take a tuple of dimension sizes as input, for arbitrary numbers of dimensions. \n",
    "\n"
   ]
  },
  {
   "cell_type": "code",
   "execution_count": 55,
   "metadata": {},
   "outputs": [
    {
     "data": {
      "text/plain": [
       "<matplotlib.image.AxesImage at 0x118653250>"
      ]
     },
     "execution_count": 55,
     "metadata": {},
     "output_type": "execute_result"
    },
    {
     "data": {
      "image/png": "[encoded data removed]",
      "text/plain": [
       "<Figure size 432x288 with 1 Axes>"
      ]
     },
     "metadata": {
      "needs_background": "light"
     },
     "output_type": "display_data"
    }
   ],
   "source": [
    "img = np.ones((200,200)) * random.rand(200)\n",
    "plt.imshow(img)"
   ]
  },
  {
   "cell_type": "markdown",
   "metadata": {},
   "source": [
    "## Rolling 10 dice\n",
    "\n",
    "Two options: the slow way and the fast way.  First, some setup:"
   ]
  },
  {
   "cell_type": "code",
   "execution_count": 71,
   "metadata": {},
   "outputs": [],
   "source": [
    "nsims = int(2E4)\n",
    "rolls=np.floor(random.rand(nsims,10)*6 ) + 1\n"
   ]
  },
  {
   "cell_type": "code",
   "execution_count": 58,
   "metadata": {},
   "outputs": [
    {
     "name": "stdout",
     "output_type": "stream",
     "text": [
      "65.6 ms ± 1.37 ms per loop (mean ± std. dev. of 7 runs, 10 loops each)\n"
     ]
    }
   ],
   "source": [
    "%%timeit \n",
    "# %%timeit will determine how long the code in this cell takes to execute.\n",
    "# This calculation does it the slow way \n",
    "total_roll=np.zeros(nsims) \n",
    "for i in arange(nsims):\n",
    "     total_roll[i]=np.sum(rolls[i,:])"
   ]
  },
  {
   "cell_type": "code",
   "execution_count": 59,
   "metadata": {},
   "outputs": [
    {
     "name": "stdout",
     "output_type": "stream",
     "text": [
      "245 µs ± 894 ns per loop (mean ± std. dev. of 7 runs, 1000 loops each)\n"
     ]
    }
   ],
   "source": [
    "%%timeit\n",
    "#This code does things the fast way\n",
    "total_roll=np.sum(rolls,axis=1)\n"
   ]
  },
  {
   "cell_type": "markdown",
   "metadata": {},
   "source": [
    "### Plotting the results\n",
    "\n",
    "__Use `plt.hist(total_roll)` to examine the results of your simulation in the below code box... adjust the number of bins and range as necessary to show all the values in the array__ (you may find `np.min()` and `np.max()` helpful)"
   ]
  },
  {
   "cell_type": "code",
   "execution_count": 76,
   "metadata": {},
   "outputs": [
    {
     "data": {
      "text/plain": [
       "(array([1.000e+00, 0.000e+00, 1.000e+00, 0.000e+00, 4.000e+00, 0.000e+00,\n",
       "        0.000e+00, 2.000e+00, 0.000e+00, 8.000e+00, 0.000e+00, 1.500e+01,\n",
       "        0.000e+00, 0.000e+00, 2.900e+01, 0.000e+00, 5.100e+01, 0.000e+00,\n",
       "        0.000e+00, 8.600e+01, 0.000e+00, 1.180e+02, 0.000e+00, 1.690e+02,\n",
       "        0.000e+00, 0.000e+00, 2.480e+02, 0.000e+00, 3.860e+02, 0.000e+00,\n",
       "        5.390e+02, 0.000e+00, 0.000e+00, 6.860e+02, 0.000e+00, 8.300e+02,\n",
       "        0.000e+00, 0.000e+00, 9.630e+02, 0.000e+00, 1.145e+03, 0.000e+00,\n",
       "        1.262e+03, 0.000e+00, 0.000e+00, 1.410e+03, 0.000e+00, 1.389e+03,\n",
       "        0.000e+00, 0.000e+00, 1.477e+03, 0.000e+00, 1.441e+03, 0.000e+00,\n",
       "        1.372e+03, 0.000e+00, 0.000e+00, 1.218e+03, 0.000e+00, 1.067e+03,\n",
       "        0.000e+00, 9.630e+02, 0.000e+00, 0.000e+00, 7.970e+02, 0.000e+00,\n",
       "        6.430e+02, 0.000e+00, 0.000e+00, 4.860e+02, 0.000e+00, 3.590e+02,\n",
       "        0.000e+00, 2.890e+02, 0.000e+00, 0.000e+00, 1.980e+02, 0.000e+00,\n",
       "        1.440e+02, 0.000e+00, 8.800e+01, 0.000e+00, 0.000e+00, 5.300e+01,\n",
       "        0.000e+00, 3.100e+01, 0.000e+00, 0.000e+00, 1.100e+01, 0.000e+00,\n",
       "        1.100e+01, 0.000e+00, 5.000e+00, 0.000e+00, 0.000e+00, 1.000e+00,\n",
       "        0.000e+00, 3.000e+00, 0.000e+00, 1.000e+00]),\n",
       " array([14.  , 14.42, 14.84, 15.26, 15.68, 16.1 , 16.52, 16.94, 17.36,\n",
       "        17.78, 18.2 , 18.62, 19.04, 19.46, 19.88, 20.3 , 20.72, 21.14,\n",
       "        21.56, 21.98, 22.4 , 22.82, 23.24, 23.66, 24.08, 24.5 , 24.92,\n",
       "        25.34, 25.76, 26.18, 26.6 , 27.02, 27.44, 27.86, 28.28, 28.7 ,\n",
       "        29.12, 29.54, 29.96, 30.38, 30.8 , 31.22, 31.64, 32.06, 32.48,\n",
       "        32.9 , 33.32, 33.74, 34.16, 34.58, 35.  , 35.42, 35.84, 36.26,\n",
       "        36.68, 37.1 , 37.52, 37.94, 38.36, 38.78, 39.2 , 39.62, 40.04,\n",
       "        40.46, 40.88, 41.3 , 41.72, 42.14, 42.56, 42.98, 43.4 , 43.82,\n",
       "        44.24, 44.66, 45.08, 45.5 , 45.92, 46.34, 46.76, 47.18, 47.6 ,\n",
       "        48.02, 48.44, 48.86, 49.28, 49.7 , 50.12, 50.54, 50.96, 51.38,\n",
       "        51.8 , 52.22, 52.64, 53.06, 53.48, 53.9 , 54.32, 54.74, 55.16,\n",
       "        55.58, 56.  ]),\n",
       " <BarContainer object of 100 artists>)"
      ]
     },
     "execution_count": 76,
     "metadata": {},
     "output_type": "execute_result"
    },
    {
     "data": {
      "image/png": "[encoded data removed]",
      "text/plain": [
       "<Figure size 720x432 with 1 Axes>"
      ]
     },
     "metadata": {
      "needs_background": "light"
     },
     "output_type": "display_data"
    }
   ],
   "source": [
    "plt.figure(figsize=(10,6))\n",
    "total_roll=np.sum(rolls,axis=1)\n",
    "plt.hist(total_roll, bins =100)\n",
    "# add histogram plotting code here!"
   ]
  },
  {
   "cell_type": "markdown",
   "metadata": {},
   "source": [
    "### Simulating more dice\n",
    "\n",
    "We can just simulate once, and take sums over different subsets with array slicing.\n",
    "\n",
    "__Modify the below code cell to plot histograms for, 2, 5, 10, and 100 rolls.__"
   ]
  },
  {
   "cell_type": "code",
   "execution_count": 95,
   "metadata": {},
   "outputs": [
    {
     "data": {
      "image/png": "[encoded data removed]",
      "text/plain": [
       "<Figure size 432x288 with 1 Axes>"
      ]
     },
     "metadata": {
      "needs_background": "light"
     },
     "output_type": "display_data"
    }
   ],
   "source": [
    "nsims=int(2E4)\n",
    "n_roll = 1000\n",
    "def rolls(n_roll):\n",
    "    return np.floor(random.rand(nsims,n_roll)*6 ) + 1\n",
    "\n",
    "# add up to get results for the sum of 5 die rolls\n",
    "total_roll_2 = np.sum(rolls(n_roll)[:,0:2],axis=1) \n",
    "total_roll_5 = np.sum(rolls(n_roll)[:,0:5],axis=1) \n",
    "total_roll_10 = np.sum(rolls(n_roll)[:,0:10],axis=1) \n",
    "total_roll_100 = np.sum(rolls(n_roll)[:,0:100],axis=1) \n",
    "\n",
    "\n",
    "#or just go ahead and plot that quantity:\n",
    "plt.hist(total_roll_2,range=[0,30],bins=30)\n",
    "plt.hist(total_roll_5,range=[0,80],bins=30)\n",
    "plt.hist(total_roll_10,range=[0,80],bins=30)\n",
    "plt.hist(total_roll_100,range=[0,80],bins=30)\n",
    "\n",
    "plt.savefig('spam.pdf')"
   ]
  },
  {
   "cell_type": "markdown",
   "metadata": {},
   "source": [
    "# Saving output to a file\n",
    "\n",
    "You can use `plt.savefig(\"<filename>\")` in the above code box to store the plot in a file named `<filename>`.\n",
    "\n",
    "__Save your plot in a PDF file named spam.pdf__.  Then, using the Mac finder/linux file explorer or the below code box, view the file.  In ipython, you can issue shell commands by preceding them by '!'."
   ]
  },
  {
   "cell_type": "code",
   "execution_count": 96,
   "metadata": {},
   "outputs": [],
   "source": [
    "! open spam.pdf"
   ]
  },
  {
   "cell_type": "markdown",
   "metadata": {},
   "source": [
    "# If you have extra time\n",
    "\n",
    "Try changing one of your plots to use a different font, choosing based upon your own aesthetic preferences.  See the example at http://matplotlib.org/examples/pylab_examples/fonts_demo.html  .\n",
    "\n",
    "If you find something you like, you may want to change your default font; see http://matplotlib.org/users/customizing.html .\n",
    "\n",
    "Try rolling even more dice, or plotting the mean roll (using `np.mean`) instead of the sum."
   ]
  },
  {
   "cell_type": "code",
   "execution_count": null,
   "metadata": {},
   "outputs": [],
   "source": []
  }
 ],
 "metadata": {
  "anaconda-cloud": {},
  "kernelspec": {
   "display_name": "Python 3",
   "language": "python",
   "name": "python3"
  },
  "language_info": {
   "codemirror_mode": {
    "name": "ipython",
    "version": 3
   },
   "file_extension": ".py",
   "mimetype": "text/x-python",
   "name": "python",
   "nbconvert_exporter": "python",
   "pygments_lexer": "ipython3",
   "version": "3.7.4"
  }
 },
 "nbformat": 4,
 "nbformat_minor": 4
}
