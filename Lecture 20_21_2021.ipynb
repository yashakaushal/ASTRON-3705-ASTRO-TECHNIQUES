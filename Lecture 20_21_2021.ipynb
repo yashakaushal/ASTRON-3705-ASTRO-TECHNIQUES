{
 "cells": [
  {
   "cell_type": "code",
   "execution_count": 1,
   "metadata": {},
   "outputs": [
    {
     "name": "stdout",
     "output_type": "stream",
     "text": [
      "Populating the interactive namespace from numpy and matplotlib\n"
     ]
    }
   ],
   "source": [
    "# imports\n",
    "%pylab inline\n",
    "import numpy.random as random\n",
    "import scipy.stats as stats\n"
   ]
  },
  {
   "cell_type": "markdown",
   "metadata": {},
   "source": [
    "# Reviewing some things from before . . .\n",
    "\n",
    "Set up two sets of 15 values from normal distributions, N(0,1) or N(1,1):"
   ]
  },
  {
   "cell_type": "code",
   "execution_count": 3,
   "metadata": {},
   "outputs": [],
   "source": [
    "#initialize the arrays\n",
    "ndata=15\n",
    "data1=random.randn(ndata)\n",
    "data2=random.randn(ndata)+1."
   ]
  },
  {
   "cell_type": "code",
   "execution_count": 4,
   "metadata": {},
   "outputs": [
    {
     "name": "stdout",
     "output_type": "stream",
     "text": [
      "means: 0.0466 , 1.3033\n",
      "sigmas: 0.2669 , 0.2672\n",
      "Confidence Interval for mean 1: [ -0.5259 , 0.6191 ]\n",
      "Confidence Interval for mean 2: [ 0.7302 , 1.8763 ]\n"
     ]
    }
   ],
   "source": [
    "#find mean of each array\n",
    "mean1=np.mean(data1)\n",
    "mean2=np.mean(data2)\n",
    "\n",
    "sigma1=np.std(data1,ddof=1)/np.sqrt(ndata) # want the standard deviation of the mean of data1\n",
    "sigma2=np.std(data2,ddof=1)/np.sqrt(ndata) # want the standard deviation of the mean of data2\n",
    "\n",
    "\n",
    "print(f'means: {mean1:.4f} , {mean2:.4f}')\n",
    "print(f'sigmas: {sigma1:.4f} , {sigma2:.4f}')\n",
    "\n",
    "tfactor=stats.t.ppf(1-0.025,ndata-1)\n",
    "print(f'Confidence Interval for mean 1: [ {mean1-tfactor*sigma1:.4f} , {mean1+tfactor*sigma1:.4f} ]')\n",
    "print(f'Confidence Interval for mean 2: [ {mean2-tfactor*sigma2:.4f} , {mean2+tfactor*sigma2:.4f} ]')\n"
   ]
  },
  {
   "cell_type": "markdown",
   "metadata": {},
   "source": [
    "Confidence intervals for the difference:"
   ]
  },
  {
   "cell_type": "code",
   "execution_count": 5,
   "metadata": {},
   "outputs": [
    {
     "name": "stdout",
     "output_type": "stream",
     "text": [
      "Observed difference of means: 1.2567 \n",
      "2-sided Confidence Interval: [ 0.4831 , 2.0304 ]\n",
      "1-sided Confidence Interval: > 0.6143\n"
     ]
    }
   ],
   "source": [
    "mean_diff=mean2-mean1\n",
    "sigma_diff=np.sqrt(sigma1**2 + sigma2**2)\n",
    "tfactor=stats.t.ppf(1-0.025, 2*ndata-2)\n",
    "\n",
    "print(f'Observed difference of means: {mean_diff:.4f} ')\n",
    "\n",
    "print(f'2-sided Confidence Interval: [ {mean_diff-tfactor*sigma_diff:.4f} , {mean_diff+tfactor*sigma_diff:.4f} ]')\n",
    "\n",
    "tfactor=stats.t.ppf(1-0.05, 2*ndata-2)\n",
    "print(f'1-sided Confidence Interval: > {mean_diff-tfactor*sigma_diff:.4f}')"
   ]
  },
  {
   "cell_type": "markdown",
   "metadata": {},
   "source": [
    "# Permutation tests\n",
    "\n",
    "We will combine `data1` and `data2` into 1 array; then generate sets of 2 datasets of size `ndata` and see how often their means differ as much as in the observed case."
   ]
  },
  {
   "cell_type": "code",
   "execution_count": 12,
   "metadata": {},
   "outputs": [],
   "source": [
    "# choose number of bootstrap samples\n",
    "nsims=int(5E4)\n",
    "\n",
    "# make a combined dataset from both original data arrays\n",
    "datac=np.concatenate( (data1,data2) )\n",
    "\n",
    "# generate the two bootstrap samples\n",
    "fake1=np.random.choice(datac,size=(ndata,nsims) )\n",
    "fake2=np.random.choice(datac,size=(ndata,nsims) )\n",
    "\n"
   ]
  },
  {
   "cell_type": "markdown",
   "metadata": {},
   "source": [
    "## Application to means"
   ]
  },
  {
   "cell_type": "code",
   "execution_count": 8,
   "metadata": {},
   "outputs": [],
   "source": [
    "# Calculate the means for each simulated dataset: should be nsims elements in each array\n",
    "fakemeans1 = np.mean(fake1,axis=0)\n",
    "fakemeans2 = np.mean(fake2,axis=0)\n",
    "\n",
    "# Calculate the difference between the means\n",
    "diffs=fakemeans2-fakemeans1  "
   ]
  },
  {
   "cell_type": "markdown",
   "metadata": {},
   "source": [
    "__Using the below code box, plot histograms of the distributions of `fakemeans1` and `fakemeans2`, using the same binning and ~100 bins.__\n",
    "\n"
   ]
  },
  {
   "cell_type": "code",
   "execution_count": null,
   "metadata": {},
   "outputs": [],
   "source": []
  },
  {
   "cell_type": "markdown",
   "metadata": {},
   "source": [
    "__Using the below code box, plot a histogram of the distribution of differences between the means of each sample(`diffs`), using ~100 bins.  Add a vertical dashed line at the observed value of the difference between the means of the two data samples (`data1` and `data2`) (you can use `plt.axvline` for this).__"
   ]
  },
  {
   "cell_type": "code",
   "execution_count": null,
   "metadata": {},
   "outputs": [],
   "source": []
  },
  {
   "cell_type": "markdown",
   "metadata": {},
   "source": [
    "\n"
   ]
  },
  {
   "cell_type": "code",
   "execution_count": 9,
   "metadata": {},
   "outputs": [
    {
     "name": "stdout",
     "output_type": "stream",
     "text": [
      "cutoffs: [0.20130398 0.70991996 1.0114838  1.33647695]\n",
      "\n",
      "Observed difference of means: 1.2567 \n",
      "\n"
     ]
    }
   ],
   "source": [
    "# print significance (alpha) = 0.32, 0.05, 0.01, and 0.001 limits on mean2-mean1\n",
    "print(f'cutoffs: {np.percentile(diffs,(68.,95.,99.,99.9))}')\n",
    "\n",
    "#make some empty space\n",
    "print()\n",
    "\n",
    "# compare the observed difference between the means to these cutoffs\n",
    "print(f'Observed difference of means: {mean_diff:.4f} ')\n",
    "print()"
   ]
  },
  {
   "cell_type": "markdown",
   "metadata": {},
   "source": [
    "We can get a p-value using `scipy.stats.percentileofscore(array,value)`, which returns the percentile in `array` corresponding to the observed value `value`."
   ]
  },
  {
   "cell_type": "code",
   "execution_count": 10,
   "metadata": {},
   "outputs": [
    {
     "name": "stdout",
     "output_type": "stream",
     "text": [
      "p-value: 0.00174\n"
     ]
    }
   ],
   "source": [
    "print(f'p-value: {( 100-stats.percentileofscore(diffs,mean2-mean1) )/100.:.6g}')"
   ]
  },
  {
   "cell_type": "markdown",
   "metadata": {},
   "source": [
    "## Application to standard deviations\n",
    "\n",
    "We can also use the permutation test to investigate whether the ratio of standard deviations of the two samples could be different (note that each array by construction had the same intrinsic standard deviation, 1)."
   ]
  },
  {
   "cell_type": "code",
   "execution_count": 15,
   "metadata": {},
   "outputs": [
    {
     "data": {
      "text/plain": [
       "1.0009749273633706"
      ]
     },
     "execution_count": 15,
     "metadata": {},
     "output_type": "execute_result"
    }
   ],
   "source": [
    "# calculate std. dev. of each bootstrap fake sample\n",
    "\n",
    "fakesigmas1=np.std(fake1,axis=0,ddof=1)\n",
    "fakesigmas2=np.std(fake2,axis=0,ddof=1)\n",
    "\n",
    "ratio=fakesigmas2/fakesigmas1\n",
    "realratio=np.std(data2,ddof=1)/np.std(data1,ddof=1)\n",
    "realratio"
   ]
  },
  {
   "cell_type": "code",
   "execution_count": 32,
   "metadata": {},
   "outputs": [
    {
     "data": {
      "text/plain": [
       "array([1.00972156, 1.47304339, 1.10503387, ..., 0.98310817, 1.30743309,\n",
       "       0.7924466 ])"
      ]
     },
     "execution_count": 32,
     "metadata": {},
     "output_type": "execute_result"
    }
   ],
   "source": [
    "ratio"
   ]
  },
  {
   "cell_type": "markdown",
   "metadata": {},
   "source": [
    "__Using the below code box, plot histograms of the two `fakesigmas` arrays, using ~100 bins each and the same binning.__"
   ]
  },
  {
   "cell_type": "code",
   "execution_count": 19,
   "metadata": {},
   "outputs": [
    {
     "data": {
      "image/png": "[encoded data removed]",
      "text/plain": [
       "<Figure size 432x288 with 1 Axes>"
      ]
     },
     "metadata": {
      "needs_background": "light"
     },
     "output_type": "display_data"
    },
    {
     "data": {
      "image/png": "[encoded data removed]",
      "text/plain": [
       "<Figure size 432x288 with 1 Axes>"
      ]
     },
     "metadata": {
      "needs_background": "light"
     },
     "output_type": "display_data"
    }
   ],
   "source": [
    "plt.hist(fakesigmas1,bins=100)\n",
    "plt.show()\n",
    "plt.hist(fakesigmas2,bins=100)\n",
    "plt.show()"
   ]
  },
  {
   "cell_type": "markdown",
   "metadata": {},
   "source": [
    "__Using the below code box, plot a histogram of the ratio of the two sigmas, i.e. `ratio=fakesigma2/fakesigma1`, with ~100 bins.  Put a vertical line at the observed value of the ratio calculated from `data1` and `data2`.__"
   ]
  },
  {
   "cell_type": "code",
   "execution_count": null,
   "metadata": {},
   "outputs": [],
   "source": []
  },
  {
   "cell_type": "code",
   "execution_count": 29,
   "metadata": {},
   "outputs": [
    {
     "data": {
      "image/png": "[encoded data removed]",
      "text/plain": [
       "<Figure size 432x288 with 1 Axes>"
      ]
     },
     "metadata": {
      "needs_background": "light"
     },
     "output_type": "display_data"
    },
    {
     "data": {
      "image/png": "[encoded data removed]",
      "text/plain": [
       "<Figure size 432x288 with 1 Axes>"
      ]
     },
     "metadata": {
      "needs_background": "light"
     },
     "output_type": "display_data"
    }
   ],
   "source": [
    "plt.hist(ratio,bins=100)\n",
    "plt.axvline(realratio,color='red')\n",
    "plt.show()\n",
    "plt.hist(realratio)\n",
    "plt.show()\n"
   ]
  },
  {
   "cell_type": "markdown",
   "metadata": {},
   "source": [
    "__Using the below code box, determine the limits of the 68/95/99/99.9 percent regions (NOT the 68/95/99/99.9th percentile points, as we want a 2-sided test) for the value of this ratio, determined using the permutation tests.__ \n",
    "\n",
    "__Compare these limits to the observed value.  Also calculate the p-value of the observed value (again, keeping in mind that we want to do a 2-sided test, so we want to calculate the probability of anything either more extremely large or more extremely small under the hypothesis that there is no difference).__\n",
    "\n",
    "__What do you conclude about whether the observed ratio of standard deviations is consistent with the hypothesis of no difference?__"
   ]
  },
  {
   "cell_type": "code",
   "execution_count": 38,
   "metadata": {},
   "outputs": [
    {
     "name": "stdout",
     "output_type": "stream",
     "text": [
      "[0.58431502 1.69285423]\n",
      "0.6796353449847025\n"
     ]
    }
   ],
   "source": [
    "# ??????\n",
    "\n",
    "print(np.percentile(ratio, [2.5, 97.5]))\n",
    "\n",
    "signif=0.5\n",
    "t = stats.t.ppf(1-signif/2, 2*ndata-2)\n",
    "print(t)\n",
    "\n",
    "\n"
   ]
  },
  {
   "cell_type": "code",
   "execution_count": null,
   "metadata": {},
   "outputs": [],
   "source": []
  },
  {
   "cell_type": "markdown",
   "metadata": {},
   "source": [
    "# The Kolmogorov-Smirnov Test\n",
    "\n",
    "Let's set up two sets of Poisson-distributed data, with mean 5 or 7.5, and see if we can detect differences.  "
   ]
  },
  {
   "cell_type": "code",
   "execution_count": 36,
   "metadata": {},
   "outputs": [],
   "source": [
    "ndata = 25\n",
    "countb = stats.poisson.rvs(5,size=(ndata) )\n",
    "countr =stats.poisson.rvs(7.5,size=(ndata) )"
   ]
  },
  {
   "cell_type": "markdown",
   "metadata": {},
   "source": [
    "__Use the below code box to bring up the help on `stats.ks_2samp`.__"
   ]
  },
  {
   "cell_type": "code",
   "execution_count": null,
   "metadata": {},
   "outputs": [],
   "source": []
  },
  {
   "cell_type": "markdown",
   "metadata": {},
   "source": [
    "__Evaluate whether the K-S test below finds a statistically significant difference between the two samples.__"
   ]
  },
  {
   "cell_type": "code",
   "execution_count": 37,
   "metadata": {},
   "outputs": [
    {
     "name": "stdout",
     "output_type": "stream",
     "text": [
      "d value: 0.4000 , p-value: 0.0356114\n"
     ]
    }
   ],
   "source": [
    "d,p = stats.ks_2samp(countb,countr)\n",
    "print(f'd value: {d:.4f} , p-value: {p:.6g}')"
   ]
  },
  {
   "cell_type": "markdown",
   "metadata": {},
   "source": [
    "# The Mann-Whitney U Test\n",
    "\n",
    "__Use the below code box to bring up the help on `stats.mannwhitneyu`.__"
   ]
  },
  {
   "cell_type": "code",
   "execution_count": 39,
   "metadata": {},
   "outputs": [
    {
     "data": {
      "text/plain": [
       "\u001b[0;31mSignature:\u001b[0m \u001b[0mstats\u001b[0m\u001b[0;34m.\u001b[0m\u001b[0mmannwhitneyu\u001b[0m\u001b[0;34m(\u001b[0m\u001b[0mx\u001b[0m\u001b[0;34m,\u001b[0m \u001b[0my\u001b[0m\u001b[0;34m,\u001b[0m \u001b[0muse_continuity\u001b[0m\u001b[0;34m=\u001b[0m\u001b[0;32mTrue\u001b[0m\u001b[0;34m,\u001b[0m \u001b[0malternative\u001b[0m\u001b[0;34m=\u001b[0m\u001b[0;32mNone\u001b[0m\u001b[0;34m)\u001b[0m\u001b[0;34m\u001b[0m\u001b[0;34m\u001b[0m\u001b[0m\n",
       "\u001b[0;31mDocstring:\u001b[0m\n",
       "Compute the Mann-Whitney rank test on samples x and y.\n",
       "\n",
       "Parameters\n",
       "----------\n",
       "x, y : array_like\n",
       "    Array of samples, should be one-dimensional.\n",
       "use_continuity : bool, optional\n",
       "        Whether a continuity correction (1/2.) should be taken into\n",
       "        account. Default is True.\n",
       "alternative : {None, 'two-sided', 'less', 'greater'}, optional\n",
       "    Defines the alternative hypothesis.\n",
       "    The following options are available (default is None):\n",
       "\n",
       "      * None: computes p-value half the size of the 'two-sided' p-value and\n",
       "        a different U statistic. The default behavior is not the same as\n",
       "        using 'less' or 'greater'; it only exists for backward compatibility\n",
       "        and is deprecated.\n",
       "      * 'two-sided'\n",
       "      * 'less': one-sided\n",
       "      * 'greater': one-sided\n",
       "\n",
       "    Use of the None option is deprecated.\n",
       "\n",
       "Returns\n",
       "-------\n",
       "statistic : float\n",
       "    The Mann-Whitney U statistic, equal to min(U for x, U for y) if\n",
       "    `alternative` is equal to None (deprecated; exists for backward\n",
       "    compatibility), and U for y otherwise.\n",
       "pvalue : float\n",
       "    p-value assuming an asymptotic normal distribution. One-sided or\n",
       "    two-sided, depending on the choice of `alternative`.\n",
       "\n",
       "Notes\n",
       "-----\n",
       "Use only when the number of observation in each sample is > 20 and\n",
       "you have 2 independent samples of ranks. Mann-Whitney U is\n",
       "significant if the u-obtained is LESS THAN or equal to the critical\n",
       "value of U.\n",
       "\n",
       "This test corrects for ties and by default uses a continuity correction.\n",
       "\n",
       "References\n",
       "----------\n",
       ".. [1] https://en.wikipedia.org/wiki/Mann-Whitney_U_test\n",
       "\n",
       ".. [2] H.B. Mann and D.R. Whitney, \"On a Test of Whether one of Two Random\n",
       "       Variables is Stochastically Larger than the Other,\" The Annals of\n",
       "       Mathematical Statistics, vol. 18, no. 1, pp. 50-60, 1947.\n",
       "\u001b[0;31mFile:\u001b[0m      ~/opt/anaconda3/lib/python3.7/site-packages/scipy/stats/stats.py\n",
       "\u001b[0;31mType:\u001b[0m      function\n"
      ]
     },
     "metadata": {},
     "output_type": "display_data"
    }
   ],
   "source": [
    "stats.mannwhitneyu?"
   ]
  },
  {
   "cell_type": "markdown",
   "metadata": {},
   "source": [
    "__Evaluate whether the U test below finds a statistically significant difference between the two samples.__"
   ]
  },
  {
   "cell_type": "code",
   "execution_count": 40,
   "metadata": {},
   "outputs": [
    {
     "name": "stdout",
     "output_type": "stream",
     "text": [
      "U value: 195.5000 , p-value: 0.01132\n"
     ]
    }
   ],
   "source": [
    "u,p = stats.mannwhitneyu(countb,countr)\n",
    "print(f'U value: {u:.4f} , p-value: {p:.4g}')\n"
   ]
  },
  {
   "cell_type": "markdown",
   "metadata": {},
   "source": [
    "# Optional: The chi-squared test\n",
    "\n"
   ]
  },
  {
   "cell_type": "markdown",
   "metadata": {},
   "source": [
    "First, we need to make arrays containing histograms of the values from the two samples in bins of 2:"
   ]
  },
  {
   "cell_type": "code",
   "execution_count": null,
   "metadata": {},
   "outputs": [],
   "source": [
    "#set up bins\n",
    "bins=np.linspace(0,16,9)\n",
    "# count objects in bins\n",
    "histb,edges = np.histogram(countb,bins=bins)\n",
    "histr,edges = np.histogram(countr,bins=bins)\n",
    "histall,edges = np.histogram(np.concatenate((countb,countr)),bins=bins)"
   ]
  },
  {
   "cell_type": "markdown",
   "metadata": {},
   "source": [
    "__Print out the values in all of the histograms using the above code box.__  Then, we will rescale the overall histogram to match the individual samples:"
   ]
  },
  {
   "cell_type": "code",
   "execution_count": null,
   "metadata": {},
   "outputs": [],
   "source": [
    "# calculate expected # in each bin\n",
    "predr=histall*0.5\n",
    "predb=histall*0.5"
   ]
  },
  {
   "cell_type": "markdown",
   "metadata": {},
   "source": [
    "__Plot separate histograms of the observed histograms (`histb` and `histr`) each overlaid with the predictions (`predb` or `predr`).__  Remember that you can use `plt.figure()` or `plt.subplot()` to make multiple plots from the same code box.  __Note:__ you can use the keyword 'drawstyle=steps' to make `plt.plot()` plot things histogram-style."
   ]
  },
  {
   "cell_type": "code",
   "execution_count": null,
   "metadata": {},
   "outputs": [],
   "source": []
  },
  {
   "cell_type": "code",
   "execution_count": null,
   "metadata": {},
   "outputs": [],
   "source": []
  },
  {
   "cell_type": "markdown",
   "metadata": {},
   "source": [
    "Now, it's time to calculate chi-squared.  We want to use only the non-zero bins.  __Fill in the calculation for the chi-squared for the blue objects.__"
   ]
  },
  {
   "cell_type": "code",
   "execution_count": null,
   "metadata": {},
   "outputs": [],
   "source": [
    "wh_ok=np.where(histall > 0.)\n",
    "chisq_red=np.sum( (histr[wh_ok]-predr[wh_ok])**2/predr[wh_ok] )\n",
    "# Fix the below !!!!\n",
    "chisq_blue=???\n"
   ]
  },
  {
   "cell_type": "markdown",
   "metadata": {},
   "source": [
    "Now, let's calculate the total chi-squared and the number of degrees of freedom:"
   ]
  },
  {
   "cell_type": "code",
   "execution_count": null,
   "metadata": {},
   "outputs": [],
   "source": [
    "print(f'Total chi-squared: {chisq_red+chisq_blue:.4f}')\n",
    "print('# of bins: ', len(wh_ok[0]))\n",
    "nsamples = 2\n",
    "dof = (len(wh_ok[0])-1)*(nsamples - 1)\n",
    "\n",
    "signif=0.05\n",
    "print(f'chi-squared minimum for rejection: {stats.chi2.ppf(1-signif,dof):.4f}')\n",
    "print(f'p-value: {(1-stats.chi2.cdf(chisq_red+chisq_blue,dof)):.4g} ')"
   ]
  },
  {
   "cell_type": "markdown",
   "metadata": {},
   "source": [
    "### A problem: we used bins where the Poisson=Gaussian assumption is poor.\n",
    "\n",
    "We need to restrict to only those bins where the predicted density is >5.  __Fix the code in the below box to only use those bins in the calculation.__"
   ]
  },
  {
   "cell_type": "code",
   "execution_count": null,
   "metadata": {},
   "outputs": [],
   "source": [
    "# FIX THE BELOW LINE!\n",
    "wh_ok=np.where(histall > 5.)\n",
    "chisq_red=np.sum( (histr[wh_ok]-predr[wh_ok])**2/predr[wh_ok] )\n",
    "chisq_blue=np.sum( (histb[wh_ok]-predb[wh_ok])**2/predr[wh_ok] )\n",
    "\n",
    "print(f'Total chi-squared: {chisq_red+chisq_blue:.4f}')\n",
    "print('# of bins: ', len(wh_ok[0]))\n",
    "nsamples = 2\n",
    "dof = (len(wh_ok[0])-1)*(nsamples - 1)\n",
    "\n",
    "signif=0.05\n",
    "print(f'chi-squared minimum for rejection: {stats.chi2.ppf(1-signif,dof):.4f}')\n",
    "print(f'p-value: {(1-stats.chi2.cdf(chisq_red+chisq_blue,dof)):.4g} ')"
   ]
  },
  {
   "cell_type": "markdown",
   "metadata": {},
   "source": [
    "### Note; using `stats.chi2_contingency`\n",
    "\n",
    "`chi2_contingency` fails if any measurements in the 'contingency table' of results is zero, so we need to excise them."
   ]
  },
  {
   "cell_type": "code",
   "execution_count": null,
   "metadata": {},
   "outputs": [],
   "source": [
    "# identify the safe array elements to use with chi2_contingency\n",
    "wh_ok=np.where((histb > 0) & (histr > 0))\n",
    "\n",
    "# produce the `contingency table` of # of measurements in each category for each bin\n",
    "obs=np.array([histb[wh_ok],histr[wh_ok]])\n",
    "\n",
    "# calculate chi-squared & the resulting p-value\n",
    "chi2,p,dof,expected = stats.chi2_contingency(obs)\n",
    "print(f'Chi-squared: {chi2:.4f}, p-value: {p:.4g}, degrees of freedom: {dof}')"
   ]
  },
  {
   "cell_type": "code",
   "execution_count": null,
   "metadata": {},
   "outputs": [],
   "source": []
  },
  {
   "cell_type": "code",
   "execution_count": null,
   "metadata": {},
   "outputs": [],
   "source": []
  }
 ],
 "metadata": {
  "anaconda-cloud": {},
  "kernelspec": {
   "display_name": "Python 3",
   "language": "python",
   "name": "python3"
  },
  "language_info": {
   "codemirror_mode": {
    "name": "ipython",
    "version": 3
   },
   "file_extension": ".py",
   "mimetype": "text/x-python",
   "name": "python",
   "nbconvert_exporter": "python",
   "pygments_lexer": "ipython3",
   "version": "3.7.4"
  }
 },
 "nbformat": 4,
 "nbformat_minor": 4
}
