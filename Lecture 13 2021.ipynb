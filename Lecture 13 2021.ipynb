{
 "cells": [
  {
   "cell_type": "code",
   "execution_count": 2,
   "metadata": {},
   "outputs": [
    {
     "name": "stdout",
     "output_type": "stream",
     "text": [
      "Populating the interactive namespace from numpy and matplotlib\n"
     ]
    }
   ],
   "source": [
    "%pylab inline\n",
    "import scipy.stats as stats\n",
    "import astropy.stats as astats\n",
    "import numpy.random as random\n"
   ]
  },
  {
   "cell_type": "markdown",
   "metadata": {},
   "source": [
    "# Exploring measurements of the Hubble parameter\n",
    "\n"
   ]
  },
  {
   "cell_type": "code",
   "execution_count": 3,
   "metadata": {},
   "outputs": [],
   "source": [
    "from astropy.table import Table\n",
    "import pandas"
   ]
  },
  {
   "cell_type": "markdown",
   "metadata": {},
   "source": [
    "# Reading in an ASCII file\n",
    "\n",
    "See https://pandas.pydata.org/pandas-docs/stable/reference/io.html for `pandas` format options (or http://docs.astropy.org/en/stable/io/unified.html#table-io for `Table.read()` format options). If you have a file that only reads in via astropy, you can convert to a `pandas` DataFrame via the `.to_pandas()` method of an astropy recarray.\n",
    "\n",
    "\n",
    "__1) using the below code box (or a text file viewer) look at the contents of the file hubble_trim.dat__"
   ]
  },
  {
   "cell_type": "code",
   "execution_count": 4,
   "metadata": {},
   "outputs": [
    {
     "name": "stdout",
     "output_type": "stream",
     "text": [
      " h0| ep | em | date   |me | source                                                        |\n",
      " 50   +2   -2  1996.00  AS  Tammann, G. \\& Sandage, A. 1996in IAU Symp 168, {\\it Examining the Black Body and Diffuse Background Raduation}, M. Kafatos, ed. (Dordrecht: Kluwer) p163.\n",
      " 77  +22   -2  1996.02  AV  VandenBergh, S. 1996, in IAU Symp 168, {\\it Examining the Black Body and Diffuse Background Raduation}, M. Kafatos, ed. (Dordrecht: Kluwer) p157. Wierd limits\n",
      " 56   +5   -5  1996.05  OS  Sandage, A. 1996, AJ 111, 1.  Spiral Luminosity Functions\n",
      " 55   +5   -5  1996.07  OS  Sandage, A. 1996, AJ 111, 18. M31+M101 look alikes.\n",
      " 55  +10  -10  1996.10  AS  Tammann, G., Labhardt, L., Federspiel, M.\n",
      " 84   +4   -4  1996.143 PK  Ford, H. \\etal 1996, ApJ 458, 455\n",
      " 76   +8   -8  1996.15  O   Zasov 1996, AstronLett 22, 71  Theory, Disk Stability\n",
      " 67   +9   -9  1996.17  S   Hoeflich, P. \\& Khokhlov, A. 1996, ApJ 457, 500. SN Theory\n",
      " 57   +4   -4  1996.220 SS  Sandage, A. \\etal 1996, ApJL 460, L15. N4639 + six  Ia's\n",
      " 65   +8   -8  1996.25  S   Hendry \\& Kanbur 1996, in Mapping, Measuring and Modeling the Universe, Coles \\etal eds, ASP \\#94, p357.\n",
      " 55   +3   -3  1996.26  S   Schaefer, B. 1996, ApJL 460, L19. SN 1960F\n",
      " 57   +4   -4  1996.333 S   Schaefer, B. 1996, AJ 111, 1668 SN1937C\n",
      "\u001b[K\u001b[?1l\u001b>_trim.dat\u001b[m\u001b[K\u0007"
     ]
    }
   ],
   "source": [
    "!more hubble_trim.dat "
   ]
  },
  {
   "cell_type": "markdown",
   "metadata": {},
   "source": [
    "Now, we read in the file into a table named `data`:"
   ]
  },
  {
   "cell_type": "code",
   "execution_count": 5,
   "metadata": {},
   "outputs": [],
   "source": [
    "# to read in with astropy.table:\n",
    "data_table=Table.read('hubble_trim.dat',format='ascii.fixed_width')\n",
    "\n",
    "# to read in with pandas:\n",
    "data=pandas.read_fwf('hubble_trim.dat',widths=[4,5,5,9,3,80],comment='#',\n",
    "                     names=['h0','ep','em','date','method','source'],skiprows=1)"
   ]
  },
  {
   "cell_type": "markdown",
   "metadata": {},
   "source": [
    "Using the below code box, check what's in each version of the table:\n",
    "\n",
    "__1) print out the list of column names:__ This is an attribute of the `data` object: i.e., `data.columns`, not `data.columns()`).  For an astropy `Table` or `recarray` this is `data_table.colnames`\n",
    "\n",
    "__2) print out the first record in the table:__ In `pandas` this is `data.iloc[0,:]`; for an astropy `Table` or `recarray` it is `data_table[0]` .  `.iloc` indicates integer-based location specification -- the first coordinate slices on rows, the second slices on columns (e.g. the h0 value is column 0).  \n",
    "\n",
    "__3) print data itself: both `pandas` and the astropy `Table` class provide 'pretty' print output.__\n",
    "\n",
    "__4) Check out the attributes and methods associated with `data` and `data_table`: e.g., type `data.` and hit the Tab key to see a list.__"
   ]
  },
  {
   "cell_type": "code",
   "execution_count": 18,
   "metadata": {},
   "outputs": [
    {
     "data": {
      "text/plain": [
       "h0                                                       50\n",
       "ep                                                        2\n",
       "em                                                       -2\n",
       "date                                                   1996\n",
       "method                                                   AS\n",
       "source    Tammann, G. \\& Sandage, A. 1996in IAU Symp 168...\n",
       "Name: 0, dtype: object"
      ]
     },
     "execution_count": 18,
     "metadata": {},
     "output_type": "execute_result"
    }
   ],
   "source": [
    "data.iloc[0,:]"
   ]
  },
  {
   "cell_type": "code",
   "execution_count": null,
   "metadata": {},
   "outputs": [],
   "source": [
    "data."
   ]
  },
  {
   "cell_type": "markdown",
   "metadata": {},
   "source": [
    "Let's store the columns as separate arrays for convenience:"
   ]
  },
  {
   "cell_type": "code",
   "execution_count": 8,
   "metadata": {},
   "outputs": [],
   "source": [
    "# the following method works in both pandas and astropy\n",
    "#h0 = data['h0']\n",
    "h0t = data_table['h0']\n",
    "#errplus = data['ep']\n",
    "#errminus=-data['em']\n",
    "#date=data['date']\n",
    "\n",
    "# this method works in pandas only\n",
    "h0 = data.h0\n",
    "errplus = data.ep\n",
    "errminus=-data.em\n",
    "date=data.date"
   ]
  },
  {
   "cell_type": "markdown",
   "metadata": {},
   "source": [
    "## Making plots with error bars\n",
    "\n",
    "__Bring up the documentation on `plt.errorbar` in the below code box.__"
   ]
  },
  {
   "cell_type": "code",
   "execution_count": 9,
   "metadata": {},
   "outputs": [
    {
     "data": {
      "text/plain": [
       "(0.0, 100.0)"
      ]
     },
     "execution_count": 9,
     "metadata": {},
     "output_type": "execute_result"
    },
    {
     "data": {
      "image/png": "[encoded data removed]",
      "text/plain": [
       "<Figure size 432x288 with 1 Axes>"
      ]
     },
     "metadata": {
      "needs_background": "light"
     },
     "output_type": "display_data"
    }
   ],
   "source": [
    "plt.scatter(date,h0)\n",
    "plt.errorbar(date,h0,yerr=[errminus,errplus],fmt='none',capsize=2,color='grey')\n",
    "plt.grid()\n",
    "plt.xlim(2000,2010)\n",
    "plt.ylim(0,100)"
   ]
  },
  {
   "cell_type": "markdown",
   "metadata": {},
   "source": [
    "__In the below box, make a plot of H0 vs. year with error-bars given by either `errplus` or `errminus`.  Use the `fmt=` keyword to draw the points as blue circles (the same format coding as `plt.plot` is used here).  You will want to use the `yerr=` keyword.__"
   ]
  },
  {
   "cell_type": "code",
   "execution_count": null,
   "metadata": {},
   "outputs": [],
   "source": []
  },
  {
   "cell_type": "markdown",
   "metadata": {},
   "source": [
    "__Now, we want to modify the plot in the above code box to use asymmetric error bars.__  To do that, you provide a Python `list` of two arrays containg one error for each measurement; i.e., generically, `yerr = [minus_error,plus_error]` where `minus_error` is the length of the lower error bar and `plus_error` is the length of the upper.\n",
    "\n",
    "__Also, limit the plot range to only show results from 2000 - 2010.__"
   ]
  },
  {
   "cell_type": "code",
   "execution_count": null,
   "metadata": {},
   "outputs": [],
   "source": []
  },
  {
   "cell_type": "markdown",
   "metadata": {},
   "source": [
    "## Plotting histograms of $H_0$ values\n",
    "\n",
    "We want to compare the distributions of $H_0$ values from 1999-2001 (pre-Key Project release), 2001-2003 (pre-WMAP), and 2003-2008.  \n",
    "\n",
    "__In the below code box, select measurements from each era and overplot histograms using different colors for each.  Use the `bins=` and/or `range=` keywords to ensure that the same binning is used for each sample, and that your binning is fine enough to be able to see the shape of the histogram (the default of 10 bins is rarely appropriate). Be sure to include a legend!__\n",
    "\n",
    "If you read things in with pandas, you can use `np.where()` to get the indices in each array for a given date range, and then plot the corresponding values by slicing h0.iloc with those indices; e.g.:\n",
    "\n",
    "    wh90s = np.where( np.logical_and(date > 1990, date < 2000) )\n",
    "    plt.hist(h0.iloc[wh90s])\n",
    "    \n",
    "Alternatively, you can use a boolean array to select the rows you want:\n",
    "\n",
    "    is90s = np.logical_and(date > 1990, date < 2000) \n",
    "    plt.hist(h0[is90s])\n",
    "\n",
    "If you read things in as an astropy `Table` or `recarray`, you can use `np.where()` to get the indices, and then plot the corresponding values by slicing the h0 values with those indices; e.g.:\n",
    "\n",
    "    wh90s = np.where( np.logical_and(date > 1990, date < 2000) )\n",
    "    plt.hist(h0t[wh90s])\n",
    "    \n",
    "    "
   ]
  },
  {
   "cell_type": "code",
   "execution_count": 15,
   "metadata": {},
   "outputs": [
    {
     "data": {
      "image/png": "[encoded data removed]",
      "text/plain": [
       "<Figure size 432x288 with 1 Axes>"
      ]
     },
     "metadata": {
      "needs_background": "light"
     },
     "output_type": "display_data"
    },
    {
     "data": {
      "text/plain": [
       "<matplotlib.legend.Legend at 0x1a1dc5d990>"
      ]
     },
     "execution_count": 15,
     "metadata": {},
     "output_type": "execute_result"
    },
    {
     "data": {
      "image/png": "[encoded data removed]",
      "text/plain": [
       "<Figure size 432x288 with 1 Axes>"
      ]
     },
     "metadata": {
      "needs_background": "light"
     },
     "output_type": "display_data"
    }
   ],
   "source": [
    "b=20\n",
    "wh90s = np.where( np.logical_and(date > 1990, date < 2000))\n",
    "plt.hist(h0.iloc[wh90s],bins=b)\n",
    "plt.show()\n",
    "# is90s = np.logical_and(date > 1990, date < 2000) \n",
    "plt.hist(h0[(date > 1999) & (date < 2001)],label='1999-2000',bins=b)\n",
    "plt.hist(h0[(date > 2001) & (date < 2003)],label='2001-2003',bins=b,alpha=0.6)\n",
    "plt.hist(h0[(date > 2003) & (date < 2008)],label='2003-2008',bins=b,alpha=0.6)\n",
    "plt.legend()"
   ]
  },
  {
   "cell_type": "markdown",
   "metadata": {},
   "source": [
    "# If you're waiting for other groups...\n",
    "\n",
    "- Try exploring the recarray version of the data (`data_table`) and applying its methods.\n",
    "\n",
    "- Matplotlib offers many customization options.  Check out http://matplotlib.org/users/customizing.html#dynamic-rc-settings for discussion of how to change the settings temporarily for a program (using `mpl.rc()`).  The example matplotlibrc file at the end of that page lists all the possible things to change; e.g. to change the linewidth (lines.linewidth in the matplotlibrc file) you would do \n",
    "\n",
    "    mpl.rc('lines',linewidth=2.0)\n",
    "    \n",
    "Try changing various line/font/etc. settings for your plots above.\n",
    "\n",
    "A good way to help make your plots prettier is to look at example code for the plots in the matplotlib gallery, https://matplotlib.org/stable/gallery/index.html .    "
   ]
  },
  {
   "cell_type": "markdown",
   "metadata": {},
   "source": [
    "# Bootstrap resampling\n",
    "\n",
    "In Python, one way to generate bootstraps, which works with numpy arrays but __not__ pandas series, is generating an array of random index numbers (i.e., sets of indices within the orignal array), and then addressing the original array we want to make bootstraps from with the array of index numbers.  Their shapes need not match.\n",
    "\n",
    "The easy way, though, is to use `numpy.random.choice()`.  __Check the documentation on this routine in the code box below.__\n",
    "\n",
    "If we want a one-dimensional array of samples, the `.sample()` method of a dataframe (or series) works. However, we want 2D, as we will create a set of `nbootstraps` new samples each of length `ndata`, so we couldn't use `Dataframe.sample()` without having to loop over the number of bootstrap samples.  \n",
    "\n",
    "Note that in general the default value of `replace=True` is what you want for bootstraps."
   ]
  },
  {
   "cell_type": "code",
   "execution_count": 23,
   "metadata": {},
   "outputs": [
    {
     "data": {
      "text/plain": [
       "\u001b[0;31mDocstring:\u001b[0m\n",
       "choice(a, size=None, replace=True, p=None)\n",
       "\n",
       "Generates a random sample from a given 1-D array\n",
       "\n",
       ".. versionadded:: 1.7.0\n",
       "\n",
       ".. note::\n",
       "    New code should use the ``choice`` method of a ``default_rng()``\n",
       "    instance instead; please see the :ref:`random-quick-start`.\n",
       "\n",
       "Parameters\n",
       "----------\n",
       "a : 1-D array-like or int\n",
       "    If an ndarray, a random sample is generated from its elements.\n",
       "    If an int, the random sample is generated as if a were np.arange(a)\n",
       "size : int or tuple of ints, optional\n",
       "    Output shape.  If the given shape is, e.g., ``(m, n, k)``, then\n",
       "    ``m * n * k`` samples are drawn.  Default is None, in which case a\n",
       "    single value is returned.\n",
       "replace : boolean, optional\n",
       "    Whether the sample is with or without replacement\n",
       "p : 1-D array-like, optional\n",
       "    The probabilities associated with each entry in a.\n",
       "    If not given the sample assumes a uniform distribution over all\n",
       "    entries in a.\n",
       "\n",
       "Returns\n",
       "-------\n",
       "samples : single item or ndarray\n",
       "    The generated random samples\n",
       "\n",
       "Raises\n",
       "------\n",
       "ValueError\n",
       "    If a is an int and less than zero, if a or p are not 1-dimensional,\n",
       "    if a is an array-like of size 0, if p is not a vector of\n",
       "    probabilities, if a and p have different lengths, or if\n",
       "    replace=False and the sample size is greater than the population\n",
       "    size\n",
       "\n",
       "See Also\n",
       "--------\n",
       "randint, shuffle, permutation\n",
       "Generator.choice: which should be used in new code\n",
       "\n",
       "Notes\n",
       "-----\n",
       "Sampling random rows from a 2-D array is not possible with this function,\n",
       "but is possible with `Generator.choice` through its ``axis`` keyword.\n",
       "\n",
       "Examples\n",
       "--------\n",
       "Generate a uniform random sample from np.arange(5) of size 3:\n",
       "\n",
       ">>> np.random.choice(5, 3)\n",
       "array([0, 3, 4]) # random\n",
       ">>> #This is equivalent to np.random.randint(0,5,3)\n",
       "\n",
       "Generate a non-uniform random sample from np.arange(5) of size 3:\n",
       "\n",
       ">>> np.random.choice(5, 3, p=[0.1, 0, 0.3, 0.6, 0])\n",
       "array([3, 3, 0]) # random\n",
       "\n",
       "Generate a uniform random sample from np.arange(5) of size 3 without\n",
       "replacement:\n",
       "\n",
       ">>> np.random.choice(5, 3, replace=False)\n",
       "array([3,1,0]) # random\n",
       ">>> #This is equivalent to np.random.permutation(np.arange(5))[:3]\n",
       "\n",
       "Generate a non-uniform random sample from np.arange(5) of size\n",
       "3 without replacement:\n",
       "\n",
       ">>> np.random.choice(5, 3, replace=False, p=[0.1, 0, 0.3, 0.6, 0])\n",
       "array([2, 3, 0]) # random\n",
       "\n",
       "Any of the above can be repeated with an arbitrary array-like\n",
       "instead of just integers. For instance:\n",
       "\n",
       ">>> aa_milne_arr = ['pooh', 'rabbit', 'piglet', 'Christopher']\n",
       ">>> np.random.choice(aa_milne_arr, 5, p=[0.5, 0.1, 0.1, 0.3])\n",
       "array(['pooh', 'pooh', 'pooh', 'Christopher', 'piglet'], # random\n",
       "      dtype='<U11')\n",
       "\u001b[0;31mType:\u001b[0m      builtin_function_or_method\n"
      ]
     },
     "metadata": {},
     "output_type": "display_data"
    }
   ],
   "source": [
    "?numpy.random.choice"
   ]
  },
  {
   "cell_type": "code",
   "execution_count": 24,
   "metadata": {},
   "outputs": [],
   "source": [
    "hdata=h0[date > 2001]\n",
    "ndata=len(hdata)\n",
    "nbootstraps=int(1E4)\n",
    "\n",
    "# The below code would work if we used astropy, but not pandas.  \n",
    "#bootidx=np.floor((random.rand(nbootstraps,ndata)*ndata))\n",
    "#bootidx=bootidx.astype(int)\n",
    "#hboot=hdata[bootidx]\n",
    "\n",
    "# this works in pandas:\n",
    "hboot=np.random.choice(hdata,(nbootstraps,ndata))\n"
   ]
  },
  {
   "cell_type": "markdown",
   "metadata": {},
   "source": [
    "In the code box below, \n",
    "\n",
    "__1) determine the minimum and maximum values in hdata and in hboot__\n",
    "\n",
    "__2) Plot a histogram of the values in `np.ravel(hboot)`__\n",
    "\n",
    "__3) Determine the dimensions of hboot using `np.shape()`__"
   ]
  },
  {
   "cell_type": "code",
   "execution_count": 29,
   "metadata": {},
   "outputs": [
    {
     "name": "stdout",
     "output_type": "stream",
     "text": [
      "91.0\n",
      "31.0\n",
      "91.0\n",
      "31.0\n"
     ]
    }
   ],
   "source": [
    "print(hdata.max())\n",
    "print(hdata.min())\n",
    "print(hboot.max())\n",
    "print(hboot.min())"
   ]
  },
  {
   "cell_type": "code",
   "execution_count": 31,
   "metadata": {},
   "outputs": [
    {
     "data": {
      "text/plain": [
       "(array([  9927.,      0.,      0.,      0.,      0.,      0.,   9798.,\n",
       "             0.,  30034.,  20195.,  40220.,      0.,  50419.,  70592.,\n",
       "         69935.,  79831.,  90351.,  79821.,  89752., 120526., 219426.,\n",
       "        179714.,  59651.,  89819.,      0.,   9951.,      0.,   9985.,\n",
       "             0.,  10053.]),\n",
       " array([31., 33., 35., 37., 39., 41., 43., 45., 47., 49., 51., 53., 55.,\n",
       "        57., 59., 61., 63., 65., 67., 69., 71., 73., 75., 77., 79., 81.,\n",
       "        83., 85., 87., 89., 91.]),\n",
       " <BarContainer object of 30 artists>)"
      ]
     },
     "execution_count": 31,
     "metadata": {},
     "output_type": "execute_result"
    },
    {
     "data": {
      "image/png": "[encoded data removed]",
      "text/plain": [
       "<Figure size 432x288 with 1 Axes>"
      ]
     },
     "metadata": {
      "needs_background": "light"
     },
     "output_type": "display_data"
    }
   ],
   "source": [
    "plt.hist(np.ravel(hboot),bins=30)"
   ]
  },
  {
   "cell_type": "code",
   "execution_count": 32,
   "metadata": {},
   "outputs": [
    {
     "data": {
      "text/plain": [
       "(10000, 134)"
      ]
     },
     "execution_count": 32,
     "metadata": {},
     "output_type": "execute_result"
    }
   ],
   "source": [
    "np.shape(hboot)"
   ]
  },
  {
   "cell_type": "markdown",
   "metadata": {},
   "source": [
    "### Using the bootstrap simulations\n",
    "\n",
    "We can, for instance, compute the standard deviation of the mean for `hdata` by determining the standard deviation of the mean values from each bootstrap realization; but we could do this for any other statistic, too.  __Compare the standard deviation of the mean & of the median to what you'd expect for the standard error, using the code box below.__"
   ]
  },
  {
   "cell_type": "code",
   "execution_count": 34,
   "metadata": {},
   "outputs": [],
   "source": [
    "err_predicted=np.std(hdata)/np.sqrt(ndata)\n",
    "\n",
    "# compare to the standard deviation amongst the means, or amongst the medians, of each bootstrap sample:\n",
    "means=np.zeros(nbootstraps)\n",
    "\n",
    "# the slow way\n",
    "for i in np.arange(nbootstraps):\n",
    "    means[i]=np.mean(hboot[i,:])\n",
    "    \n",
    "# the fast way    \n",
    "medians = np.median(hboot,axis=1)    \n",
    "    \n",
    "#print ??? # write code to print the mean and median of the means\n",
    "#print ??? # write code to print the mean and median of hdata\n",
    "#print ???  # write code to print the std. dev. of the means and of the medians, \n",
    "# and compare to the predicted error\n"
   ]
  },
  {
   "cell_type": "markdown",
   "metadata": {},
   "source": [
    "__What do the distributions look like?  Plot the histograms of both means and medians and compare (use a bin size of 0.1).  Discuss with your group: why do these look different from each other?__\n"
   ]
  },
  {
   "cell_type": "code",
   "execution_count": 38,
   "metadata": {},
   "outputs": [
    {
     "data": {
      "text/plain": [
       "(array([  0.,   0.,   0.,   0.,   0.,   0.,   0.,   0.,   0.,   0.,   0.,\n",
       "          0.,   0.,   0.,   0.,   0.,   0.,   0.,   0.,   0.,   0.,   0.,\n",
       "          0.,   0.,   0.,   0.,   0.,   0.,   0.,   0.,   0.,   0.,   0.,\n",
       "          0.,   0.,   0.,   0.,   0.,   0.,   1.,   3.,   0.,   4.,   7.,\n",
       "          4.,   7.,  11.,  14.,  32.,  27.,  41.,  48.,  73., 108., 116.,\n",
       "         97., 179., 213., 199., 255., 302., 346., 404., 390., 531., 485.,\n",
       "        557., 537., 553., 522., 512., 491., 422., 387., 383., 308., 282.,\n",
       "        245., 202., 171., 143., 107.,  80.,  56.,  39.,  38.,  22.,  14.,\n",
       "          6.,   8.,   6.,   2.,   2.,   3.,   2.,   2.,   1.,   0.,   0.]),\n",
       " array([60. , 60.1, 60.2, 60.3, 60.4, 60.5, 60.6, 60.7, 60.8, 60.9, 61. ,\n",
       "        61.1, 61.2, 61.3, 61.4, 61.5, 61.6, 61.7, 61.8, 61.9, 62. , 62.1,\n",
       "        62.2, 62.3, 62.4, 62.5, 62.6, 62.7, 62.8, 62.9, 63. , 63.1, 63.2,\n",
       "        63.3, 63.4, 63.5, 63.6, 63.7, 63.8, 63.9, 64. , 64.1, 64.2, 64.3,\n",
       "        64.4, 64.5, 64.6, 64.7, 64.8, 64.9, 65. , 65.1, 65.2, 65.3, 65.4,\n",
       "        65.5, 65.6, 65.7, 65.8, 65.9, 66. , 66.1, 66.2, 66.3, 66.4, 66.5,\n",
       "        66.6, 66.7, 66.8, 66.9, 67. , 67.1, 67.2, 67.3, 67.4, 67.5, 67.6,\n",
       "        67.7, 67.8, 67.9, 68. , 68.1, 68.2, 68.3, 68.4, 68.5, 68.6, 68.7,\n",
       "        68.8, 68.9, 69. , 69.1, 69.2, 69.3, 69.4, 69.5, 69.6, 69.7, 69.8,\n",
       "        69.9]),\n",
       " <BarContainer object of 99 artists>)"
      ]
     },
     "execution_count": 38,
     "metadata": {},
     "output_type": "execute_result"
    },
    {
     "data": {
      "image/png": "[encoded data removed]",
      "text/plain": [
       "<Figure size 432x288 with 1 Axes>"
      ]
     },
     "metadata": {
      "needs_background": "light"
     },
     "output_type": "display_data"
    }
   ],
   "source": [
    "plt.hist(means,bins=np.arange(60,70,0.1))"
   ]
  },
  {
   "cell_type": "code",
   "execution_count": 44,
   "metadata": {},
   "outputs": [
    {
     "data": {
      "text/plain": [
       "(array([2.000e+00, 2.000e+00, 0.000e+00, 1.100e+01, 0.000e+00, 1.400e+01,\n",
       "        1.420e+02, 0.000e+00, 8.300e+01, 3.000e+00, 6.930e+02, 4.480e+02,\n",
       "        3.360e+02, 1.038e+03, 1.700e+01, 5.590e+02, 2.082e+03, 0.000e+00,\n",
       "        6.560e+02]),\n",
       " array([64. , 64.3, 64.6, 64.9, 65.2, 65.5, 65.8, 66.1, 66.4, 66.7, 67. ,\n",
       "        67.3, 67.6, 67.9, 68.2, 68.5, 68.8, 69.1, 69.4, 69.7]),\n",
       " <BarContainer object of 19 artists>)"
      ]
     },
     "execution_count": 44,
     "metadata": {},
     "output_type": "execute_result"
    },
    {
     "data": {
      "image/png": "[encoded data removed]",
      "text/plain": [
       "<Figure size 432x288 with 1 Axes>"
      ]
     },
     "metadata": {
      "needs_background": "light"
     },
     "output_type": "display_data"
    }
   ],
   "source": [
    "plt.hist(medians,bins=np.arange(64,70,0.3))"
   ]
  },
  {
   "cell_type": "markdown",
   "metadata": {},
   "source": [
    "# Percentiles and Sorting\n",
    "\n",
    "3 examples of ways to get a 95% range for the median:"
   ]
  },
  {
   "cell_type": "code",
   "execution_count": 35,
   "metadata": {},
   "outputs": [
    {
     "name": "stdout",
     "output_type": "stream",
     "text": [
      "[66.5 71. ]\n",
      "66.5 71.0\n",
      "66.5 71.0\n"
     ]
    }
   ],
   "source": [
    "# use np.percentile\n",
    "print( np.percentile(medians, [2.5, 97.5]) )\n",
    "\n",
    "# use np.sort to create a sorted array\n",
    "sortmedians = np.sort(medians)\n",
    "print( sortmedians[int(0.025*nbootstraps)],sortmedians[int(0.975*nbootstraps)] )\n",
    "\n",
    "#use np.argsort to get an array of indices that sort the medians array\n",
    "sortidx=np.argsort(medians)\n",
    "print( medians[sortidx[int(0.025*nbootstraps)]], medians[sortidx[int(0.975*nbootstraps)]] )\n"
   ]
  },
  {
   "cell_type": "markdown",
   "metadata": {},
   "source": [
    "__Now, using one of these methods, determine a 95% confidence interval for H0 from the means of each bootstrap sample.__"
   ]
  },
  {
   "cell_type": "code",
   "execution_count": 45,
   "metadata": {},
   "outputs": [
    {
     "name": "stdout",
     "output_type": "stream",
     "text": [
      "[65.27455224 68.24029851]\n"
     ]
    }
   ],
   "source": [
    "print( np.percentile(means, [2.5, 97.5]) )"
   ]
  },
  {
   "cell_type": "markdown",
   "metadata": {},
   "source": [
    "# Smoothed bootstraps\n",
    "\n",
    "We can get nicer-looking distributions of bootstrap results by adding a modest amount of noise to the data generated from bootstrapping.  Example: add N(0,1) noise to our H0 bootstraps:"
   ]
  },
  {
   "cell_type": "code",
   "execution_count": 46,
   "metadata": {},
   "outputs": [],
   "source": [
    "sboot=hboot+random.randn(nbootstraps,ndata)\n",
    "smeans = np.mean(sboot,axis=1) \n",
    "smedians=np.median(sboot,axis=1) "
   ]
  },
  {
   "cell_type": "markdown",
   "metadata": {},
   "source": [
    "__Overplot histograms of the `medians` and `smedians` arrays using the same binning for each.  Then, determine 95% confidence regions for the smoothed mean and smoothed median, and compare to your values from above.__"
   ]
  },
  {
   "cell_type": "code",
   "execution_count": 47,
   "metadata": {},
   "outputs": [
    {
     "data": {
      "text/plain": [
       "(array([0.000e+00, 1.000e+00, 3.000e+00, 9.000e+00, 1.000e+01, 2.800e+01,\n",
       "        5.100e+01, 8.900e+01, 1.190e+02, 2.020e+02, 2.970e+02, 4.130e+02,\n",
       "        5.500e+02, 6.690e+02, 8.420e+02, 1.019e+03, 1.045e+03, 1.133e+03,\n",
       "        1.136e+03]),\n",
       " array([64. , 64.3, 64.6, 64.9, 65.2, 65.5, 65.8, 66.1, 66.4, 66.7, 67. ,\n",
       "        67.3, 67.6, 67.9, 68.2, 68.5, 68.8, 69.1, 69.4, 69.7]),\n",
       " <BarContainer object of 19 artists>)"
      ]
     },
     "execution_count": 47,
     "metadata": {},
     "output_type": "execute_result"
    },
    {
     "data": {
      "image/png": "[encoded data removed]",
      "text/plain": [
       "<Figure size 432x288 with 1 Axes>"
      ]
     },
     "metadata": {
      "needs_background": "light"
     },
     "output_type": "display_data"
    }
   ],
   "source": [
    "plt.hist(medians,bins=np.arange(64,70,0.3))\n",
    "plt.hist(smedians,bins=np.arange(64,70,0.3))"
   ]
  },
  {
   "cell_type": "code",
   "execution_count": 49,
   "metadata": {},
   "outputs": [
    {
     "name": "stdout",
     "output_type": "stream",
     "text": [
      "[65.27455224 68.24029851]\n",
      "[65.25761117 68.24871532]\n",
      "[66.5 71. ]\n",
      "[66.58028481 70.58073476]\n"
     ]
    }
   ],
   "source": [
    "print( np.percentile(means, [2.5, 97.5]) )\n",
    "print( np.percentile(smeans, [2.5, 97.5]) )\n",
    "print( np.percentile(medians, [2.5, 97.5]) )\n",
    "print( np.percentile(smedians, [2.5, 97.5]) )"
   ]
  },
  {
   "cell_type": "code",
   "execution_count": null,
   "metadata": {},
   "outputs": [],
   "source": []
  }
 ],
 "metadata": {
  "anaconda-cloud": {},
  "kernelspec": {
   "display_name": "Python 3",
   "language": "python",
   "name": "python3"
  },
  "language_info": {
   "codemirror_mode": {
    "name": "ipython",
    "version": 3
   },
   "file_extension": ".py",
   "mimetype": "text/x-python",
   "name": "python",
   "nbconvert_exporter": "python",
   "pygments_lexer": "ipython3",
   "version": "3.7.4"
  }
 },
 "nbformat": 4,
 "nbformat_minor": 4
}
