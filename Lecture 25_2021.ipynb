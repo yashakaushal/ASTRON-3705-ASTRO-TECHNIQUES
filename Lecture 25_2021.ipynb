{
 "cells": [
  {
   "cell_type": "code",
   "execution_count": 1,
   "metadata": {},
   "outputs": [
    {
     "name": "stdout",
     "output_type": "stream",
     "text": [
      "Populating the interactive namespace from numpy and matplotlib\n"
     ]
    }
   ],
   "source": [
    "%pylab inline\n",
    "import scipy.stats as stats\n",
    "import astropy.stats as astats\n",
    "import numpy.random as random\n",
    "from astropy.table import Table\n",
    "import pandas as pd"
   ]
  },
  {
   "cell_type": "markdown",
   "metadata": {},
   "source": [
    "# Fitting for the Hubble constant with supernovae\n",
    "\n",
    "We are continuing to work with the Hicken et al. (\"Consitution\") supernova dataset.  First, we read in the file into a table named `data`:"
   ]
  },
  {
   "cell_type": "code",
   "execution_count": 2,
   "metadata": {},
   "outputs": [],
   "source": [
    "# CHANGE THE BELOW LINE TO POINT TO THE DIRECTORY CONTAINING SNDATA.TXT\n",
    "path = './'  \n",
    "\n",
    "# the astropy way\n",
    "#data=Table.read(path+'sndata.txt',format='ascii')\n",
    "\n",
    "# the pandas way: the file is in \"fixed-width format\" so we use read_fwf\n",
    "data=pd.read_fwf(path+'sndata.txt')\n",
    "\n",
    "cz=data['cz']\n",
    "mu=data['mu']\n",
    "sigma_mu=data['sigma_mu']\n",
    "weight=1/sigma_mu**2\n",
    "d = 10**(mu/5)*1E-5\n",
    "\n",
    "logv=np.log10(cz)"
   ]
  },
  {
   "cell_type": "markdown",
   "metadata": {},
   "source": [
    "# Regression with errors in the independent variable\n",
    "\n",
    "We can use `scipy.odr` for this case.\n",
    "\n",
    "__Note that you need to change__ \n",
    "\n",
    "`if 0` __to__ \n",
    "\n",
    "`if 1` __to get code to execute!__"
   ]
  },
  {
   "cell_type": "code",
   "execution_count": 5,
   "metadata": {},
   "outputs": [
    {
     "name": "stdout",
     "output_type": "stream",
     "text": [
      "Beta: [ 5.07700384 15.68526439]\n",
      "Beta Std Error: [0.07035143 0.28060107]\n",
      "Beta Covariance: [[ 0.00772956 -0.03079314]\n",
      " [-0.03079314  0.12296665]]\n",
      "Residual Variance: 0.6403114801419978\n",
      "Inverse Condition #: 0.009872850884847417\n",
      "Reason(s) for Halting:\n",
      "  Sum of squares convergence\n",
      "\n",
      "slope: 5.077 +/- 0.088\n",
      "intercept: 15.685 +/- 0.351\n",
      "H0: 72.94 km/sec/Mpc +/- 11.83\n"
     ]
    },
    {
     "data": {
      "image/png": "[encoded data removed]",
      "text/plain": [
       "<Figure size 432x288 with 1 Axes>"
      ]
     },
     "metadata": {
      "needs_background": "light"
     },
     "output_type": "display_data"
    }
   ],
   "source": [
    "# import scipy.odr as odr\n",
    "\n",
    "# scipy odr package does nonlinear fitting with odr\n",
    "# see https://docs.scipy.org/doc/scipy/reference/odr.html\n",
    "\n",
    "\n",
    "# error due to peculiar velocities\n",
    "logverr=300./(cz)/np.log(10.)\n",
    "\n",
    "# define a linear function for the fit.  \n",
    "# Note: scipy.optimize.curve_fit would similarly require us\n",
    "#     to define a function whose parameters would be fit.\n",
    "f = lambda beta,x: beta[0]*x+beta[1]\n",
    "\n",
    "# define the model to fit\n",
    "linear = odr.Model(f)\n",
    "# define the dataset to be fit and the errors in each axis\n",
    "mydata = odr.RealData(logv, mu, sx=logverr, sy=sigma_mu)\n",
    "\n",
    "# set up the fit, including initial guesses for the parameters\n",
    "myodr = odr.ODR(mydata, linear, beta0=[5., 15.])\n",
    "# do the fit\n",
    "myoutput = myodr.run()\n",
    "# look at the results\n",
    "myoutput.pprint()\n",
    "slope=(myoutput.beta)[0]\n",
    "intercept=(myoutput.beta)[1]\n",
    "covar=myoutput.cov_beta\n",
    "print()\n",
    "\n",
    "if 1:   \n",
    "    h0err = (10**(-0.2*(intercept-np.sqrt(covar[1,1]) )-np.log10(1E-5) )\n",
    "              -10**(-0.2*(intercept+np.sqrt(covar[1,1]) )-np.log10(1E-5) ) ) /2.\n",
    "    \n",
    "    print(f'slope: {slope:.3f} +/- {np.sqrt(covar[0,0]):.3f}')\n",
    "    print(f'intercept: {intercept:.3f} +/- {np.sqrt(covar[1,1]):.3f}')\n",
    "    print(f'H0: {(10**(-0.2*intercept-np.log10(1E-5))):.2f} km/sec/Mpc +/- {h0err:.2f}')\n",
    "\n",
    "    \n",
    "    \n",
    "    plt.errorbar(logv,mu,xerr=logverr,yerr=sigma_mu,fmt='b.',alpha=0.2)\n",
    "    plt.ylim(33,39)\n",
    "    plt.xlabel('log v')\n",
    "    plt.ylabel(r'$\\mu$')\n",
    "    plt.plot(logv,logv*slope+intercept,'r-')"
   ]
  },
  {
   "cell_type": "markdown",
   "metadata": {},
   "source": [
    "# Robust regression\n",
    "\n",
    "We can use `statsmodels` for robust regression.  Note for interpreting documentation: the 'endogenous' variable is the _dependent_ one we are fitting for, 'exogenous' variables are the _independent_ ones whose values are just provided.\n",
    "First, we'll do a known case:"
   ]
  },
  {
   "cell_type": "code",
   "execution_count": 6,
   "metadata": {},
   "outputs": [
    {
     "name": "stdout",
     "output_type": "stream",
     "text": [
      "With weights: 5.0483 15.7979\n",
      "No weights: 5.0577 15.7648\n"
     ]
    }
   ],
   "source": [
    "#The numpy way\n",
    "coeffs = np.polyfit(logv,mu,1,w=weight)\n",
    "print(f'With weights: {coeffs[0]:.4f} {coeffs[1]:.4f}')\n",
    "coeffs = np.polyfit(logv,mu,1)\n",
    "print(f'No weights: {coeffs[0]:.4f} {coeffs[1]:.4f}')"
   ]
  },
  {
   "cell_type": "markdown",
   "metadata": {},
   "source": [
    "__Take a look at the documentation for sm.WLS using the below code box.__"
   ]
  },
  {
   "cell_type": "code",
   "execution_count": null,
   "metadata": {},
   "outputs": [],
   "source": []
  },
  {
   "cell_type": "code",
   "execution_count": 7,
   "metadata": {},
   "outputs": [],
   "source": [
    "#The statsmodels way\n",
    "import statsmodels.api as sm\n",
    "X = logv\n",
    "#fit for a constant too\n",
    "X = sm.add_constant(X)\n",
    "\n",
    "# do the fit.  We could have done this in two lines as:\n",
    "#model = sm.WLS(mu, X,weights=weight)\n",
    "#result = model.fit()\n",
    "\n",
    "results = sm.WLS(mu, X, weights=weight).fit()\n"
   ]
  },
  {
   "cell_type": "markdown",
   "metadata": {},
   "source": [
    "__Now, examine the results using the below code.__  `statsmodels` provides all the info you ever wanted and more.  This is documented at https://www.statsmodels.org/0.8.0/generated/statsmodels.regression.linear_model.RegressionResults.html ."
   ]
  },
  {
   "cell_type": "code",
   "execution_count": 8,
   "metadata": {},
   "outputs": [
    {
     "data": {
      "text/html": [
       "<table class=\"simpletable\">\n",
       "<caption>WLS Regression Results</caption>\n",
       "<tr>\n",
       "  <th>Dep. Variable:</th>           <td>mu</td>        <th>  R-squared:         </th> <td>   0.970</td> \n",
       "</tr>\n",
       "<tr>\n",
       "  <th>Model:</th>                   <td>WLS</td>       <th>  Adj. R-squared:    </th> <td>   0.969</td> \n",
       "</tr>\n",
       "<tr>\n",
       "  <th>Method:</th>             <td>Least Squares</td>  <th>  F-statistic:       </th> <td>   5161.</td> \n",
       "</tr>\n",
       "<tr>\n",
       "  <th>Date:</th>             <td>Wed, 21 Apr 2021</td> <th>  Prob (F-statistic):</th> <td>9.05e-125</td>\n",
       "</tr>\n",
       "<tr>\n",
       "  <th>Time:</th>                 <td>14:33:13</td>     <th>  Log-Likelihood:    </th> <td>  50.730</td> \n",
       "</tr>\n",
       "<tr>\n",
       "  <th>No. Observations:</th>      <td>   164</td>      <th>  AIC:               </th> <td>  -97.46</td> \n",
       "</tr>\n",
       "<tr>\n",
       "  <th>Df Residuals:</th>          <td>   162</td>      <th>  BIC:               </th> <td>  -91.26</td> \n",
       "</tr>\n",
       "<tr>\n",
       "  <th>Df Model:</th>              <td>     1</td>      <th>                     </th>     <td> </td>    \n",
       "</tr>\n",
       "<tr>\n",
       "  <th>Covariance Type:</th>      <td>nonrobust</td>    <th>                     </th>     <td> </td>    \n",
       "</tr>\n",
       "</table>\n",
       "<table class=\"simpletable\">\n",
       "<tr>\n",
       "    <td></td>       <th>coef</th>     <th>std err</th>      <th>t</th>      <th>P>|t|</th>  <th>[0.025</th>    <th>0.975]</th>  \n",
       "</tr>\n",
       "<tr>\n",
       "  <th>const</th> <td>   15.7770</td> <td>    0.280</td> <td>   56.441</td> <td> 0.000</td> <td>   15.225</td> <td>   16.329</td>\n",
       "</tr>\n",
       "<tr>\n",
       "  <th>cz</th>    <td>    5.0540</td> <td>    0.070</td> <td>   71.838</td> <td> 0.000</td> <td>    4.915</td> <td>    5.193</td>\n",
       "</tr>\n",
       "</table>\n",
       "<table class=\"simpletable\">\n",
       "<tr>\n",
       "  <th>Omnibus:</th>       <td> 4.919</td> <th>  Durbin-Watson:     </th> <td>   2.223</td>\n",
       "</tr>\n",
       "<tr>\n",
       "  <th>Prob(Omnibus):</th> <td> 0.085</td> <th>  Jarque-Bera (JB):  </th> <td>   5.038</td>\n",
       "</tr>\n",
       "<tr>\n",
       "  <th>Skew:</th>          <td> 0.261</td> <th>  Prob(JB):          </th> <td>  0.0806</td>\n",
       "</tr>\n",
       "<tr>\n",
       "  <th>Kurtosis:</th>      <td> 3.682</td> <th>  Cond. No.          </th> <td>    86.0</td>\n",
       "</tr>\n",
       "</table><br/><br/>Notes:<br/>[1] Standard Errors assume that the covariance matrix of the errors is correctly specified."
      ],
      "text/plain": [
       "<class 'statsmodels.iolib.summary.Summary'>\n",
       "\"\"\"\n",
       "                            WLS Regression Results                            \n",
       "==============================================================================\n",
       "Dep. Variable:                     mu   R-squared:                       0.970\n",
       "Model:                            WLS   Adj. R-squared:                  0.969\n",
       "Method:                 Least Squares   F-statistic:                     5161.\n",
       "Date:                Wed, 21 Apr 2021   Prob (F-statistic):          9.05e-125\n",
       "Time:                        14:33:13   Log-Likelihood:                 50.730\n",
       "No. Observations:                 164   AIC:                            -97.46\n",
       "Df Residuals:                     162   BIC:                            -91.26\n",
       "Df Model:                           1                                         \n",
       "Covariance Type:            nonrobust                                         \n",
       "==============================================================================\n",
       "                 coef    std err          t      P>|t|      [0.025      0.975]\n",
       "------------------------------------------------------------------------------\n",
       "const         15.7770      0.280     56.441      0.000      15.225      16.329\n",
       "cz             5.0540      0.070     71.838      0.000       4.915       5.193\n",
       "==============================================================================\n",
       "Omnibus:                        4.919   Durbin-Watson:                   2.223\n",
       "Prob(Omnibus):                  0.085   Jarque-Bera (JB):                5.038\n",
       "Skew:                           0.261   Prob(JB):                       0.0806\n",
       "Kurtosis:                       3.682   Cond. No.                         86.0\n",
       "==============================================================================\n",
       "\n",
       "Notes:\n",
       "[1] Standard Errors assume that the covariance matrix of the errors is correctly specified.\n",
       "\"\"\""
      ]
     },
     "execution_count": 8,
     "metadata": {},
     "output_type": "execute_result"
    }
   ],
   "source": [
    "results.summary()"
   ]
  },
  {
   "cell_type": "code",
   "execution_count": 10,
   "metadata": {},
   "outputs": [
    {
     "name": "stdout",
     "output_type": "stream",
     "text": [
      "slope: 5.054 +/- 0.076\n",
      "intercept: 15.777 +/- 0.351\n",
      "H0: 69.92 km/sec/Mpc +/- 5.00\n"
     ]
    }
   ],
   "source": [
    "slope = results.params[1]\n",
    "intercept = results.params[0]\n",
    "\n",
    "\n",
    "# statsmodels provides multiple estimates of the standard error\n",
    "err_slope=results.HC0_se[1]\n",
    "err_intercept=results.HC0_se[0]\n",
    "\n",
    "h0err = (10**(-0.2*(intercept-err_intercept) )-np.log10(1E-5) - \\\n",
    "    10**(-0.2*(intercept+err_intercept) )-np.log10(1E-5) )/2.\n",
    "\n",
    "if 1:\n",
    "    print(f'slope: {slope:.3f} +/- {err_slope:.3f}')\n",
    "    print(f'intercept: {intercept:.3f} +/- {np.sqrt(covar[1,1]):.3f}')\n",
    "    print(f'H0: {(10**(-0.2*intercept-np.log10(1E-5))):.2f} km/sec/Mpc +/- {h0err:.2f}')\n"
   ]
  },
  {
   "cell_type": "markdown",
   "metadata": {},
   "source": [
    "### Applying robust fitting\n",
    "\n",
    "__Look at the help on sm.RLM using the below code box.__  Here M denotes the function used to penalize outliers."
   ]
  },
  {
   "cell_type": "code",
   "execution_count": 11,
   "metadata": {},
   "outputs": [
    {
     "data": {
      "text/plain": [
       "\u001b[0;31mInit signature:\u001b[0m \u001b[0msm\u001b[0m\u001b[0;34m.\u001b[0m\u001b[0mRLM\u001b[0m\u001b[0;34m(\u001b[0m\u001b[0mendog\u001b[0m\u001b[0;34m,\u001b[0m \u001b[0mexog\u001b[0m\u001b[0;34m,\u001b[0m \u001b[0mM\u001b[0m\u001b[0;34m=\u001b[0m\u001b[0;32mNone\u001b[0m\u001b[0;34m,\u001b[0m \u001b[0mmissing\u001b[0m\u001b[0;34m=\u001b[0m\u001b[0;34m'none'\u001b[0m\u001b[0;34m,\u001b[0m \u001b[0;34m**\u001b[0m\u001b[0mkwargs\u001b[0m\u001b[0;34m)\u001b[0m\u001b[0;34m\u001b[0m\u001b[0;34m\u001b[0m\u001b[0m\n",
       "\u001b[0;31mDocstring:\u001b[0m     \n",
       "Robust Linear Model\n",
       "\n",
       "Estimate a robust linear model via iteratively reweighted least squares\n",
       "given a robust criterion estimator.\n",
       "\n",
       "Parameters\n",
       "----------\n",
       "endog : array_like\n",
       "    A 1-d endogenous response variable. The dependent variable.\n",
       "exog : array_like\n",
       "    A nobs x k array where `nobs` is the number of observations and `k`\n",
       "    is the number of regressors. An intercept is not included by default\n",
       "    and should be added by the user. See\n",
       "    :func:`statsmodels.tools.add_constant`.\n",
       "M : statsmodels.robust.norms.RobustNorm, optional\n",
       "    The robust criterion function for downweighting outliers.\n",
       "    The current options are LeastSquares, HuberT, RamsayE, AndrewWave,\n",
       "    TrimmedMean, Hampel, and TukeyBiweight.  The default is HuberT().\n",
       "    See statsmodels.robust.norms for more information.\n",
       "missing : str\n",
       "    Available options are 'none', 'drop', and 'raise'. If 'none', no nan\n",
       "    checking is done. If 'drop', any observations with nans are dropped.\n",
       "    If 'raise', an error is raised. Default is 'none'.\n",
       "\n",
       "Attributes\n",
       "----------\n",
       "\n",
       "df_model : float\n",
       "    The degrees of freedom of the model.  The number of regressors p less\n",
       "    one for the intercept.  Note that the reported model degrees\n",
       "    of freedom does not count the intercept as a regressor, though\n",
       "    the model is assumed to have an intercept.\n",
       "df_resid : float\n",
       "    The residual degrees of freedom.  The number of observations n\n",
       "    less the number of regressors p.  Note that here p does include\n",
       "    the intercept as using a degree of freedom.\n",
       "endog : ndarray\n",
       "    See above.  Note that endog is a reference to the data so that if\n",
       "    data is already an array and it is changed, then `endog` changes\n",
       "    as well.\n",
       "exog : ndarray\n",
       "    See above.  Note that endog is a reference to the data so that if\n",
       "    data is already an array and it is changed, then `endog` changes\n",
       "    as well.\n",
       "M : statsmodels.robust.norms.RobustNorm\n",
       "     See above.  Robust estimator instance instantiated.\n",
       "nobs : float\n",
       "    The number of observations n\n",
       "pinv_wexog : ndarray\n",
       "    The pseudoinverse of the design / exogenous data array.  Note that\n",
       "    RLM has no whiten method, so this is just the pseudo inverse of the\n",
       "    design.\n",
       "normalized_cov_params : ndarray\n",
       "    The p x p normalized covariance of the design / exogenous data.\n",
       "    This is approximately equal to (X.T X)^(-1)\n",
       "\n",
       "Examples\n",
       "--------\n",
       ">>> import statsmodels.api as sm\n",
       ">>> data = sm.datasets.stackloss.load(as_pandas=False)\n",
       ">>> data.exog = sm.add_constant(data.exog)\n",
       ">>> rlm_model = sm.RLM(data.endog, data.exog,                            M=sm.robust.norms.HuberT())\n",
       "\n",
       ">>> rlm_results = rlm_model.fit()\n",
       ">>> rlm_results.params\n",
       "array([  0.82938433,   0.92606597,  -0.12784672, -41.02649835])\n",
       ">>> rlm_results.bse\n",
       "array([ 0.11100521,  0.30293016,  0.12864961,  9.79189854])\n",
       ">>> rlm_results_HC2 = rlm_model.fit(cov=\"H2\")\n",
       ">>> rlm_results_HC2.params\n",
       "array([  0.82938433,   0.92606597,  -0.12784672, -41.02649835])\n",
       ">>> rlm_results_HC2.bse\n",
       "array([ 0.11945975,  0.32235497,  0.11796313,  9.08950419])\n",
       ">>> mod = sm.RLM(data.endog, data.exog, M=sm.robust.norms.Hampel())\n",
       ">>> rlm_hamp_hub = mod.fit(scale_est=sm.robust.scale.HuberScale())\n",
       ">>> rlm_hamp_hub.params\n",
       "array([  0.73175452,   1.25082038,  -0.14794399, -40.27122257])\n",
       "\u001b[0;31mFile:\u001b[0m           ~/opt/anaconda3/lib/python3.7/site-packages/statsmodels/robust/robust_linear_model.py\n",
       "\u001b[0;31mType:\u001b[0m           type\n",
       "\u001b[0;31mSubclasses:\u001b[0m     \n"
      ]
     },
     "metadata": {},
     "output_type": "display_data"
    }
   ],
   "source": [
    "?sm.RLM"
   ]
  },
  {
   "cell_type": "code",
   "execution_count": 12,
   "metadata": {},
   "outputs": [
    {
     "name": "stdout",
     "output_type": "stream",
     "text": [
      "const    15.630385\n",
      "cz        5.091046\n",
      "dtype: float64\n",
      "Huber t slope, H0: 5.0910, 74.8037\n",
      "\n",
      "Trimmed mean slope, H0: 5.1211, 79.0722\n",
      "\n",
      "Biweight slope, H0: 5.0930, 75.1726\n"
     ]
    }
   ],
   "source": [
    "# use a t-distribution based deweighting\n",
    "rlm_model = sm.RLM(mu, X, M=sm.robust.norms.HuberT())\n",
    "rlm_results = rlm_model.fit()\n",
    "print(rlm_results.params)\n",
    "intercept = (rlm_results.params)[0]\n",
    "slope = (rlm_results.params)[1]\n",
    "print(f'Huber t slope, H0: {slope:.4f}, {10**(-0.2*intercept-np.log10(1E-5)):.4f}')\n",
    "print()\n",
    "\n",
    "rlm_model = sm.RLM(mu, X, M=sm.robust.norms.TrimmedMean())\n",
    "rlm_results = rlm_model.fit()\n",
    "#print(rlm_results.params)\n",
    "intercept = (rlm_results.params)[0]\n",
    "slope = (rlm_results.params)[1]\n",
    "print(f'Trimmed mean slope, H0: {slope:.4f}, {10**(-0.2*intercept-np.log10(1E-5)):.4f}')\n",
    "\n",
    "print()\n",
    "rlm_model = sm.RLM(mu, X, M=sm.robust.norms.TukeyBiweight())\n",
    "rlm_results = rlm_model.fit()\n",
    "#print(rlm_results.params)\n",
    "intercept = (rlm_results.params)[0]\n",
    "slope = (rlm_results.params)[1]\n",
    "\n",
    "print(f'Biweight slope, H0: {slope:.4f}, {10**(-0.2*intercept-np.log10(1E-5)):.4f}')\n",
    "\n"
   ]
  },
  {
   "cell_type": "code",
   "execution_count": 13,
   "metadata": {},
   "outputs": [
    {
     "data": {
      "text/html": [
       "<table class=\"simpletable\">\n",
       "<caption>Robust linear Model Regression Results</caption>\n",
       "<tr>\n",
       "  <th>Dep. Variable:</th>         <td>mu</td>        <th>  No. Observations:  </th> <td>   164</td>\n",
       "</tr>\n",
       "<tr>\n",
       "  <th>Model:</th>                 <td>RLM</td>       <th>  Df Residuals:      </th> <td>   162</td>\n",
       "</tr>\n",
       "<tr>\n",
       "  <th>Method:</th>               <td>IRLS</td>       <th>  Df Model:          </th> <td>     1</td>\n",
       "</tr>\n",
       "<tr>\n",
       "  <th>Norm:</th>             <td>TukeyBiweight</td>  <th>                     </th>    <td> </td>  \n",
       "</tr>\n",
       "<tr>\n",
       "  <th>Scale Est.:</th>            <td>mad</td>       <th>                     </th>    <td> </td>  \n",
       "</tr>\n",
       "<tr>\n",
       "  <th>Cov Type:</th>              <td>H1</td>        <th>                     </th>    <td> </td>  \n",
       "</tr>\n",
       "<tr>\n",
       "  <th>Date:</th>           <td>Wed, 21 Apr 2021</td> <th>                     </th>    <td> </td>  \n",
       "</tr>\n",
       "<tr>\n",
       "  <th>Time:</th>               <td>14:34:22</td>     <th>                     </th>    <td> </td>  \n",
       "</tr>\n",
       "<tr>\n",
       "  <th>No. Iterations:</th>        <td>15</td>        <th>                     </th>    <td> </td>  \n",
       "</tr>\n",
       "</table>\n",
       "<table class=\"simpletable\">\n",
       "<tr>\n",
       "    <td></td>       <th>coef</th>     <th>std err</th>      <th>z</th>      <th>P>|z|</th>  <th>[0.025</th>    <th>0.975]</th>  \n",
       "</tr>\n",
       "<tr>\n",
       "  <th>const</th> <td>   15.6197</td> <td>    0.266</td> <td>   58.688</td> <td> 0.000</td> <td>   15.098</td> <td>   16.141</td>\n",
       "</tr>\n",
       "<tr>\n",
       "  <th>cz</th>    <td>    5.0930</td> <td>    0.068</td> <td>   75.377</td> <td> 0.000</td> <td>    4.961</td> <td>    5.225</td>\n",
       "</tr>\n",
       "</table><br/><br/>If the model instance has been used for another fit with different fit parameters, then the fit options might not be the correct ones anymore ."
      ],
      "text/plain": [
       "<class 'statsmodels.iolib.summary.Summary'>\n",
       "\"\"\"\n",
       "                    Robust linear Model Regression Results                    \n",
       "==============================================================================\n",
       "Dep. Variable:                     mu   No. Observations:                  164\n",
       "Model:                            RLM   Df Residuals:                      162\n",
       "Method:                          IRLS   Df Model:                            1\n",
       "Norm:                   TukeyBiweight                                         \n",
       "Scale Est.:                       mad                                         \n",
       "Cov Type:                          H1                                         \n",
       "Date:                Wed, 21 Apr 2021                                         \n",
       "Time:                        14:34:22                                         \n",
       "No. Iterations:                    15                                         \n",
       "==============================================================================\n",
       "                 coef    std err          z      P>|z|      [0.025      0.975]\n",
       "------------------------------------------------------------------------------\n",
       "const         15.6197      0.266     58.688      0.000      15.098      16.141\n",
       "cz             5.0930      0.068     75.377      0.000       4.961       5.225\n",
       "==============================================================================\n",
       "\n",
       "If the model instance has been used for another fit with different fit parameters, then the fit options might not be the correct ones anymore .\n",
       "\"\"\""
      ]
     },
     "execution_count": 13,
     "metadata": {},
     "output_type": "execute_result"
    }
   ],
   "source": [
    "rlm_results.summary()"
   ]
  },
  {
   "cell_type": "code",
   "execution_count": null,
   "metadata": {},
   "outputs": [],
   "source": []
  },
  {
   "cell_type": "code",
   "execution_count": null,
   "metadata": {},
   "outputs": [],
   "source": []
  },
  {
   "cell_type": "code",
   "execution_count": null,
   "metadata": {},
   "outputs": [],
   "source": []
  },
  {
   "cell_type": "code",
   "execution_count": null,
   "metadata": {},
   "outputs": [],
   "source": []
  }
 ],
 "metadata": {
  "anaconda-cloud": {},
  "kernelspec": {
   "display_name": "Python 3",
   "language": "python",
   "name": "python3"
  },
  "language_info": {
   "codemirror_mode": {
    "name": "ipython",
    "version": 3
   },
   "file_extension": ".py",
   "mimetype": "text/x-python",
   "name": "python",
   "nbconvert_exporter": "python",
   "pygments_lexer": "ipython3",
   "version": "3.7.4"
  }
 },
 "nbformat": 4,
 "nbformat_minor": 4
}
